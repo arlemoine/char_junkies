{
 "cells": [
  {
   "cell_type": "markdown",
   "metadata": {},
   "source": [
    "# <center>CHALLENGE 3<center>"
   ]
  },
  {
   "cell_type": "markdown",
   "metadata": {},
   "source": [
    "<p>Team Name: char junkies\n",
    "<p>Student Names: Adriean Lemoine, Chris Smith, Nick Burgo"
   ]
  },
  {
   "cell_type": "markdown",
   "metadata": {
    "jp-MarkdownHeadingCollapsed": true
   },
   "source": [
    "## Instructions\n",
    "Use generic coding style unless hard-coded values are really necessary.<br>\n",
    "Your code must be efficient and use self-explanatory naming.<br>\n",
    "Use appropriate Python library methods for each task instead of using loops.<br>\n",
    "Run your entire code and save. Then submit this <b>saved</b> copy."
   ]
  },
  {
   "cell_type": "markdown",
   "metadata": {
    "collapsed": true,
    "jupyter": {
     "outputs_hidden": true
    }
   },
   "source": [
    "## Imports"
   ]
  },
  {
   "cell_type": "code",
   "execution_count": 12,
   "metadata": {},
   "outputs": [],
   "source": [
    "import math\n",
    "import numpy as np\n",
    "import pandas as pd"
   ]
  },
  {
   "cell_type": "markdown",
   "metadata": {},
   "source": [
    "## Loading Data"
   ]
  },
  {
   "cell_type": "markdown",
   "metadata": {
    "collapsed": true,
    "jupyter": {
     "outputs_hidden": true
    }
   },
   "source": [
    "Load \"titanic.csv\" into the data frame object \"data\"</br>\n",
    "[train.csv](https://github.com/wesm/pydata-book/blob/2nd-edition/datasets/titanic/train.csv)"
   ]
  },
  {
   "cell_type": "code",
   "execution_count": 16,
   "metadata": {},
   "outputs": [],
   "source": [
    "url = \"https://raw.githubusercontent.com/wesm/pydata-book/refs/heads/2nd-edition/datasets/titanic/train.csv\"\n",
    "data = pd.read_csv(url, index_col=0)"
   ]
  },
  {
   "cell_type": "markdown",
   "metadata": {},
   "source": [
    "## Data Processing"
   ]
  },
  {
   "cell_type": "markdown",
   "metadata": {},
   "source": [
    "Create a data frame object \"pasUpto19\".\n",
    "> Columns of pasUpto19 = {AGE_12, AGE_TEEN, PCLASS}.<br>\n",
    "> AGE_12 : Passengers with age in \\[1, 12]<br>\n",
    "> AGE_TEEN : Passengers with age in \\[13, 19]<br>"
   ]
  },
  {
   "cell_type": "code",
   "execution_count": 19,
   "metadata": {},
   "outputs": [
    {
     "name": "stdout",
     "output_type": "stream",
     "text": [
      "     AGE_12  AGE_TEEN  PCLASS\n",
      "0       2.0       NaN       3\n",
      "1       4.0       NaN       3\n",
      "2       2.0       NaN       3\n",
      "3       8.0       NaN       3\n",
      "4       3.0       NaN       2\n",
      "..      ...       ...     ...\n",
      "159     NaN      16.0       1\n",
      "160     NaN      18.0       3\n",
      "161     NaN      15.0       3\n",
      "162     NaN      19.0       3\n",
      "163     NaN      19.0       1\n",
      "\n",
      "[164 rows x 3 columns]\n"
     ]
    }
   ],
   "source": [
    "preteen = data[data['Age'] < 13][['Age','Pclass']]\n",
    "preteen.rename(columns={'Age': 'AGE_12', 'Pclass': 'PCLASS'}, inplace=True)\n",
    "\n",
    "teen = data[np.logical_and(data['Age'] < 20, data['Age'] > 12)][['Age','Pclass']]\n",
    "teen.rename(columns={'Age': 'AGE_TEEN', 'Pclass': 'PCLASS'}, inplace=True)\n",
    "\n",
    "pasUpto19 = pd.concat([preteen, teen], ignore_index=True)\n",
    "pasUpto19 = pasUpto19.reindex(columns=['AGE_12', 'AGE_TEEN', 'PCLASS'])\n",
    "\n",
    "# For testing purposes\n",
    "print(pasUpto19)"
   ]
  },
  {
   "cell_type": "markdown",
   "metadata": {},
   "source": [
    "Display 5 rows below and above the middle row of \"pasUpto19\":"
   ]
  },
  {
   "cell_type": "code",
   "execution_count": 21,
   "metadata": {},
   "outputs": [
    {
     "name": "stdout",
     "output_type": "stream",
     "text": [
      "    AGE_12  AGE_TEEN  PCLASS\n",
      "77     NaN      19.0       3\n",
      "78     NaN      17.0       3\n",
      "79     NaN      16.0       3\n",
      "80     NaN      17.0       2\n",
      "81     NaN      16.0       3\n",
      "82     NaN      14.5       3\n",
      "83     NaN      17.0       3\n",
      "84     NaN      19.0       1\n",
      "85     NaN      16.0       3\n",
      "86     NaN      19.0       3\n"
     ]
    }
   ],
   "source": [
    "middle_row = math.floor(len(pasUpto19) / 2)\n",
    "print(pasUpto19[middle_row -5: middle_row + 5])"
   ]
  },
  {
   "cell_type": "markdown",
   "metadata": {},
   "source": [
    "Group pasUpto19 by AGE_TEEN:"
   ]
  },
  {
   "cell_type": "code",
   "execution_count": 25,
   "metadata": {},
   "outputs": [
    {
     "name": "stdout",
     "output_type": "stream",
     "text": [
      "   AGE_GROUP  NUM_OF_TEENS\n",
      "0       13.0             2\n",
      "1       14.0             6\n",
      "2       14.5             1\n",
      "3       15.0             5\n",
      "4       16.0            17\n",
      "5       17.0            13\n",
      "6       18.0            26\n",
      "7       19.0            25\n"
     ]
    }
   ],
   "source": [
    "groupedTeensByAge = pasUpto19.groupby('AGE_TEEN').size().reset_index(name='NUM_OF_TEENS')\n",
    "groupedTeensByAge.rename(columns={'AGE_TEEN': 'AGE_GROUP'}, inplace = True)\n",
    "print(groupedTeensByAge)"
   ]
  },
  {
   "cell_type": "markdown",
   "metadata": {},
   "source": [
    "Get the mean of PCLASS for each group of AGE_TEEN and display the mean by age groups:"
   ]
  },
  {
   "cell_type": "code",
   "execution_count": 60,
   "metadata": {},
   "outputs": [
    {
     "name": "stdout",
     "output_type": "stream",
     "text": [
      "   AGE_GROUP  PCLASS_MEAN\n",
      "0       13.0     2.500000\n",
      "1       14.0     2.500000\n",
      "2       14.5     3.000000\n",
      "3       15.0     2.600000\n",
      "4       16.0     2.529412\n",
      "5       17.0     2.384615\n",
      "6       18.0     2.461538\n",
      "7       19.0     2.360000\n"
     ]
    }
   ],
   "source": [
    "PclassMean = pasUpto19.groupby('AGE_TEEN')['PCLASS'].mean().reset_index()\n",
    "PclassMean.rename(columns={'AGE_TEEN': 'AGE_GROUP', 'PCLASS': 'PCLASS_MEAN'}, inplace = True)\n",
    "print(PclassMean)"
   ]
  },
  {
   "cell_type": "markdown",
   "metadata": {},
   "source": [
    "Sort \"pasUpto19\" by the age of teenages and store into a DF object \"pasUpto19_sortTeen\":"
   ]
  },
  {
   "cell_type": "code",
   "execution_count": 63,
   "metadata": {},
   "outputs": [
    {
     "name": "stdout",
     "output_type": "stream",
     "text": [
      "     AGE_12  AGE_TEEN  PCLASS\n",
      "150     NaN      13.0       3\n",
      "120     NaN      13.0       2\n",
      "137     NaN      14.0       3\n",
      "136     NaN      14.0       3\n",
      "119     NaN      14.0       1\n",
      "..      ...       ...     ...\n",
      "64     1.00       NaN       2\n",
      "65     0.83       NaN       2\n",
      "66     4.00       NaN       3\n",
      "67     9.00       NaN       3\n",
      "68     4.00       NaN       3\n",
      "\n",
      "[164 rows x 3 columns]\n"
     ]
    }
   ],
   "source": [
    "pasUpto19_sortTeen = pasUpto19.sort_values(by='AGE_TEEN')\n",
    "print(pasUpto19_sortTeen)"
   ]
  },
  {
   "cell_type": "markdown",
   "metadata": {},
   "source": [
    "## Summarize Data"
   ]
  },
  {
   "cell_type": "markdown",
   "metadata": {},
   "source": [
    "Create \"pasUpto19_stat\" an object from the statistics of pasUpto19. Use the method describe(). Print the statistics."
   ]
  },
  {
   "cell_type": "code",
   "execution_count": 67,
   "metadata": {},
   "outputs": [
    {
     "name": "stdout",
     "output_type": "stream",
     "text": [
      "         AGE_12   AGE_TEEN      PCLASS\n",
      "count  69.00000  95.000000  164.000000\n",
      "mean    4.77058  17.215789    2.530488\n",
      "std     3.39039   1.633513    0.712929\n",
      "min     0.42000  13.000000    1.000000\n",
      "25%     2.00000  16.000000    2.000000\n",
      "50%     4.00000  18.000000    3.000000\n",
      "75%     8.00000  19.000000    3.000000\n",
      "max    12.00000  19.000000    3.000000\n"
     ]
    }
   ],
   "source": [
    "pasUpto19_stat = pasUpto19.describe()\n",
    "print(pasUpto19_stat)"
   ]
  },
  {
   "cell_type": "markdown",
   "metadata": {},
   "source": [
    "Store each statistics of pasUpto19_stat into a multi-dimensional list \"pasUpto19_stat_lst\" individually. Print the list."
   ]
  },
  {
   "cell_type": "code",
   "execution_count": 81,
   "metadata": {},
   "outputs": [
    {
     "name": "stdout",
     "output_type": "stream",
     "text": [
      "[69.0, 4.7705797101449265, 3.3903903488857394, 0.42, 2.0, 4.0, 8.0, 12.0]\n",
      "[95.0, 17.21578947368421, 1.6335131041990902, 13.0, 16.0, 18.0, 19.0, 19.0]\n",
      "[164.0, 2.5304878048780486, 0.7129286396611786, 1.0, 2.0, 3.0, 3.0, 3.0]\n"
     ]
    }
   ],
   "source": [
    "passUpto19_stat_lst = []\n",
    "\n",
    "stat_AGE_12 = pasUpto19_stat['AGE_12'].tolist()\n",
    "stat_AGE_TEEN = pasUpto19_stat['AGE_TEEN'].tolist()\n",
    "stat_PCLASS = pasUpto19_stat['PCLASS'].tolist()\n",
    "\n",
    "print(stat_AGE_12)\n",
    "print(stat_AGE_TEEN)\n",
    "print(stat_PCLASS)"
   ]
  },
  {
   "cell_type": "markdown",
   "metadata": {},
   "source": [
    "Print rows where AGE_12 >= mean of AGE_12 or AGE_TEEN >= mean AGE_TEEN."
   ]
  },
  {
   "cell_type": "code",
   "execution_count": 84,
   "metadata": {},
   "outputs": [
    {
     "name": "stdout",
     "output_type": "stream",
     "text": [
      "     AGE_12  AGE_TEEN  PCLASS\n",
      "3       8.0       NaN       3\n",
      "5       7.0       NaN       3\n",
      "6       5.0       NaN       2\n",
      "7      11.0       NaN       3\n",
      "11     12.0       NaN       3\n",
      "..      ...       ...     ...\n",
      "154     NaN      18.0       3\n",
      "156     NaN      18.0       3\n",
      "160     NaN      18.0       3\n",
      "162     NaN      19.0       3\n",
      "163     NaN      19.0       1\n",
      "\n",
      "[80 rows x 3 columns]\n"
     ]
    }
   ],
   "source": [
    "mean_age_12 = pasUpto19['AGE_12'].mean()\n",
    "mean_age_teen = pasUpto19['AGE_TEEN'].mean()\n",
    "\n",
    "filtered_data = pasUpto19[(pasUpto19['AGE_12'] >= mean_age_12) | (pasUpto19['AGE_TEEN'] >= mean_age_teen)]\n",
    "print(filtered_data)"
   ]
  },
  {
   "cell_type": "markdown",
   "metadata": {},
   "source": [
    "# STOP HERE FOR C3.1"
   ]
  },
  {
   "cell_type": "markdown",
   "metadata": {
    "collapsed": true,
    "jupyter": {
     "outputs_hidden": true
    }
   },
   "source": [
    "## Use of method \"eval(Age ...)\""
   ]
  },
  {
   "cell_type": "markdown",
   "metadata": {
    "collapsed": true,
    "jupyter": {
     "outputs_hidden": true
    }
   },
   "source": [
    "<b>Sample Code Snippet:</b><br>\n",
    "<p>\n",
    "dic = {\"x\": pd.Series([2,-1,3,5], name=\"x\"),\n",
    "      \"y\": pd.Series((10,11,12), name=\"y\")\n",
    "      }<br>\n",
    "df = pd.DataFrame(dic)<br>\n",
    "print(df)<br>\n",
    "df.eval(\"x == 5\")\n",
    "</p>"
   ]
  },
  {
   "cell_type": "markdown",
   "metadata": {},
   "source": [
    "Get passengers whose age is in \\[3,7) or in \\[12, 15] and store into \"pas3to6_12to15\":"
   ]
  },
  {
   "cell_type": "code",
   "execution_count": null,
   "metadata": {
    "collapsed": true,
    "jupyter": {
     "outputs_hidden": true
    }
   },
   "outputs": [],
   "source": []
  },
  {
   "cell_type": "markdown",
   "metadata": {},
   "source": [
    "## Plots"
   ]
  },
  {
   "cell_type": "markdown",
   "metadata": {},
   "source": [
    "Create a figure \"Plots for Pclass and Age\"<br>\n",
    "Plot histograms for \"PCLASS\", \"AGE_12\", and \"AGE_TEEN\" side by side:"
   ]
  },
  {
   "cell_type": "code",
   "execution_count": null,
   "metadata": {
    "collapsed": true,
    "jupyter": {
     "outputs_hidden": true
    }
   },
   "outputs": [],
   "source": []
  },
  {
   "cell_type": "markdown",
   "metadata": {},
   "source": [
    "Add a scatter plot for \"PCLASS\" vs. \"AGE_12\" into the first cell and \"PCLASS\" vs. \"AGE_TEEN\" into the last cell on the same figure at the second row:"
   ]
  },
  {
   "cell_type": "code",
   "execution_count": null,
   "metadata": {},
   "outputs": [],
   "source": []
  },
  {
   "cell_type": "markdown",
   "metadata": {
    "collapsed": true,
    "jupyter": {
     "outputs_hidden": true
    }
   },
   "source": [
    "## <center> REFERENCES </center>\n",
    "List resources (book, internet page, etc.) that you used to complete this challenge."
   ]
  },
  {
   "cell_type": "markdown",
   "metadata": {},
   "source": [
    "https://pandas.pydata.org/docs/reference/api/pandas.DataFrame.html\n",
    "https://www.geeksforgeeks.org/indexing-and-selecting-data-with-pandas/\n",
    "https://pandas.pydata.org/docs/reference/api/pandas.DataFrame.reindex.html#pandas.DataFrame.reindex\n",
    "https://pandas.pydata.org/pandas-docs/version/1.4/reference/api/pandas.concat.html#pandas.concat\n",
    "https://stackoverflow.com/questions/36921951/truth-value-of-a-series-is-ambiguous-use-a-empty-a-bool-a-item-a-any-o\n"
   ]
  }
 ],
 "metadata": {
  "kernelspec": {
   "display_name": "Python 3 (ipykernel)",
   "language": "python",
   "name": "python3"
  },
  "language_info": {
   "codemirror_mode": {
    "name": "ipython",
    "version": 3
   },
   "file_extension": ".py",
   "mimetype": "text/x-python",
   "name": "python",
   "nbconvert_exporter": "python",
   "pygments_lexer": "ipython3",
   "version": "3.12.4"
  }
 },
 "nbformat": 4,
 "nbformat_minor": 4
}
