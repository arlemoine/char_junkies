{
 "cells": [
  {
   "cell_type": "markdown",
   "metadata": {},
   "source": [
    "# Challenge 2 Python Programming"
   ]
  },
  {
   "cell_type": "markdown",
   "metadata": {},
   "source": [
    "<p>Team Name: char junkies\n",
    "<p>Student Name: Chris Smith, Nick Burgo, Adriean Lemoine\n",
    "<p>Student W#:"
   ]
  },
  {
   "cell_type": "markdown",
   "metadata": {},
   "source": [
    "## Instructions\n",
    "Use generic coding style unless hard-coded values are really necessary.<br>\n",
    "Your code must be efficient and use self-explanatory naming.<br>\n",
    "Use appropriate Python library methods for each task instead of using loops.<br>\n",
    "Run your entire code and save. Then submit this <b>saved</b> copy."
   ]
  },
  {
   "cell_type": "markdown",
   "metadata": {},
   "source": [
    "## Imports"
   ]
  },
  {
   "cell_type": "code",
   "execution_count": 1,
   "metadata": {},
   "outputs": [],
   "source": [
    "import csv"
   ]
  },
  {
   "cell_type": "markdown",
   "metadata": {},
   "source": [
    "## <center> Part I </center>"
   ]
  },
  {
   "cell_type": "markdown",
   "metadata": {},
   "source": [
    "### 1) Read  student records from the file Student.csv in INPUT and store into a dictionary \"stdRec\":"
   ]
  },
  {
   "cell_type": "code",
   "execution_count": 2,
   "metadata": {},
   "outputs": [],
   "source": [
    "stdRec = {}\n",
    "header = ()\n",
    "data = []\n",
    "\n",
    "with open('INPUT/Student.csv', newline='') as csvfile:\n",
    "    myreader = csv.reader(csvfile, skipinitialspace=True, delimiter=',', quotechar='\"')\n",
    "    next(myreader)\n",
    "    key = 1\n",
    "    for row in myreader:\n",
    "        stdRec[key] = row\n",
    "        key = key + 1\n",
    "#"
   ]
  },
  {
   "cell_type": "markdown",
   "metadata": {},
   "source": [
    "### 2) Store headers into a tuple \"header\":"
   ]
  },
  {
   "cell_type": "code",
   "execution_count": 3,
   "metadata": {},
   "outputs": [],
   "source": [
    "with open('INPUT/Student.csv', newline='') as csvfile:\n",
    "    myreader = csv.reader(csvfile, skipinitialspace=True, delimiter=',', quotechar='\"')\n",
    "    header = tuple(next(myreader))\n",
    "#"
   ]
  },
  {
   "cell_type": "markdown",
   "metadata": {},
   "source": [
    "### 3) Store data into a list \"data\":"
   ]
  },
  {
   "cell_type": "code",
   "execution_count": 4,
   "metadata": {},
   "outputs": [],
   "source": [
    "with open('INPUT/Student.csv', newline='') as csvfile:\n",
    "    myreader = csv.reader(csvfile, skipinitialspace=True, delimiter=',', quotechar='\"')\n",
    "    next(myreader)\n",
    "    for row in myreader:\n",
    "        data.append(row)\n",
    "    #\n",
    "#"
   ]
  },
  {
   "cell_type": "markdown",
   "metadata": {},
   "source": [
    "### 4) Ask user to enter a student number to search \"data\" for the W# and return all his/her grades for the classes taken:"
   ]
  },
  {
   "cell_type": "code",
   "execution_count": 5,
   "metadata": {},
   "outputs": [
    {
     "name": "stdout",
     "output_type": "stream",
     "text": [
      "Input a student number: "
     ]
    },
    {
     "name": "stdin",
     "output_type": "stream",
     "text": [
      " W0778938\n"
     ]
    },
    {
     "name": "stdout",
     "output_type": "stream",
     "text": [
      "\n",
      "['W0778938', 'Adriean', 'Lemoine', '001', '0.97', '0.88']\n",
      "['W0778938', 'Adriean', 'Lemoine', '002', '0.77', '0.85']\n",
      "['W0778938', 'Adriean', 'Lemoine', '004', '0.85', '0.86']\n",
      "['W0778938', 'Adriean', 'Lemoine', '005', '0.91', '0.79']\n"
     ]
    }
   ],
   "source": [
    "studentRec = []\n",
    "print('Input a student number: ', end='')\n",
    "studID = input()\n",
    "print()\n",
    "\n",
    "for row in data:\n",
    "    i = 0\n",
    "    if(row[0] == studID):\n",
    "        print(row)\n",
    "        studentRec.append(row)\n",
    "    #\n",
    "    i = i + 1\n",
    "#"
   ]
  },
  {
   "cell_type": "markdown",
   "metadata": {},
   "source": [
    "### 5) Write the search result into a file with a file name which is consisted of W# and extention \"csv\". The file will be stored into the folder \"RESULT\". The first line of the file will have headers:"
   ]
  },
  {
   "cell_type": "code",
   "execution_count": 6,
   "metadata": {},
   "outputs": [
    {
     "name": "stdout",
     "output_type": "stream",
     "text": [
      "W0778938.csv\n"
     ]
    }
   ],
   "source": [
    "fileName = studID + '.csv'\n",
    "print(fileName)\n",
    "\n",
    "with open('RESULT/' + fileName, 'w', newline='') as csvfile:\n",
    "    mywriter = csv.writer(csvfile, delimiter=',', quotechar='\"')\n",
    "    mywriter.writerow(header)\n",
    "    for row in studentRec:\n",
    "        mywriter.writerow(row)\n",
    "#"
   ]
  },
  {
   "cell_type": "markdown",
   "metadata": {},
   "source": [
    "# Testing"
   ]
  },
  {
   "cell_type": "code",
   "execution_count": 7,
   "metadata": {},
   "outputs": [
    {
     "name": "stdout",
     "output_type": "stream",
     "text": [
      "{'I', 'v', 't', 'a', 'c', 'm', 'n', 'i', 'u', 's', ' ', 'o', 'e'}\n",
      "{'v', 'm', 'o', 'e'}\n"
     ]
    }
   ],
   "source": [
    "reference = \"I can move mountains\"\n",
    "pattern = \"move\"\n",
    "\n",
    "sRef = set(reference)\n",
    "sPat = set(pattern)\n",
    "\n",
    "print(sRef)\n",
    "print(sPat)"
   ]
  },
  {
   "cell_type": "code",
   "execution_count": null,
   "metadata": {},
   "outputs": [],
   "source": []
  }
 ],
 "metadata": {
  "kernelspec": {
   "display_name": "Python 3 (ipykernel)",
   "language": "python",
   "name": "python3"
  },
  "language_info": {
   "codemirror_mode": {
    "name": "ipython",
    "version": 3
   },
   "file_extension": ".py",
   "mimetype": "text/x-python",
   "name": "python",
   "nbconvert_exporter": "python",
   "pygments_lexer": "ipython3",
   "version": "3.12.4"
  }
 },
 "nbformat": 4,
 "nbformat_minor": 4
}
