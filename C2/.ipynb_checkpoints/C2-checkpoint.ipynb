{
 "cells": [
  {
   "cell_type": "markdown",
   "metadata": {},
   "source": [
    "# Challenge 2 Python Programming"
   ]
  },
  {
   "cell_type": "markdown",
   "metadata": {},
   "source": [
    "<p>Team Name: char junkies\n",
    "<p>Student Name: Chris Smith, Nick Burgo, Adriean Lemoine\n",
    "<p>Student W#: W0749373, W0666692, W0778938"
   ]
  },
  {
   "cell_type": "markdown",
   "metadata": {},
   "source": [
    "## Instructions\n",
    "Use generic coding style unless hard-coded values are really necessary.<br>\n",
    "Your code must be efficient and use self-explanatory naming.<br>\n",
    "Use appropriate Python library methods for each task instead of using loops.<br>\n",
    "Run your entire code and save. Then submit this <b>saved</b> copy."
   ]
  },
  {
   "cell_type": "markdown",
   "metadata": {},
   "source": [
    "## Imports"
   ]
  },
  {
   "cell_type": "code",
   "execution_count": 1,
   "metadata": {},
   "outputs": [],
   "source": [
    "import csv"
   ]
  },
  {
   "cell_type": "markdown",
   "metadata": {},
   "source": [
    "## <center> Part I </center>"
   ]
  },
  {
   "cell_type": "markdown",
   "metadata": {},
   "source": [
    "### 1) Read  student records from the file Student.csv in INPUT and store into a dictionary \"stdRec\":"
   ]
  },
  {
   "cell_type": "code",
   "execution_count": 24,
   "metadata": {},
   "outputs": [],
   "source": [
    "stdRec = {}\n",
    "header = ()\n",
    "data = []\n",
    "\n",
    "with open('INPUT/Student.csv', newline='') as csvfile:\n",
    "    myreader = csv.reader(csvfile, skipinitialspace=True, delimiter=',', quotechar='\"')\n",
    "    next(myreader)\n",
    "    key = 1\n",
    "    for row in myreader:\n",
    "        stdRec[key] = row\n",
    "        key = key + 1\n",
    "#"
   ]
  },
  {
   "cell_type": "markdown",
   "metadata": {},
   "source": [
    "### 2) Store headers into a tuple \"header\":"
   ]
  },
  {
   "cell_type": "code",
   "execution_count": 25,
   "metadata": {},
   "outputs": [],
   "source": [
    "with open('INPUT/Student.csv', newline='') as csvfile:\n",
    "    myreader = csv.reader(csvfile, skipinitialspace=True, delimiter=',', quotechar='\"')\n",
    "    header = tuple(next(myreader))\n",
    "#"
   ]
  },
  {
   "cell_type": "markdown",
   "metadata": {},
   "source": [
    "### 3) Store data into a list \"data\":"
   ]
  },
  {
   "cell_type": "code",
   "execution_count": 26,
   "metadata": {},
   "outputs": [],
   "source": [
    "with open('INPUT/Student.csv', newline='') as csvfile:\n",
    "    myreader = csv.reader(csvfile, skipinitialspace=True, delimiter=',', quotechar='\"')\n",
    "    next(myreader)\n",
    "    for row in myreader:\n",
    "        data.append(row)\n",
    "    #\n",
    "#"
   ]
  },
  {
   "cell_type": "markdown",
   "metadata": {},
   "source": [
    "### 4) Ask user to enter a student number to search \"data\" for the W# and return all his/her grades for the classes taken:"
   ]
  },
  {
   "cell_type": "code",
   "execution_count": 35,
   "metadata": {},
   "outputs": [
    {
     "name": "stdout",
     "output_type": "stream",
     "text": [
      "Input a student number: "
     ]
    },
    {
     "name": "stdin",
     "output_type": "stream",
     "text": [
      " W0666692\n"
     ]
    },
    {
     "name": "stdout",
     "output_type": "stream",
     "text": [
      "\n",
      "['W0666692', 'Nick', 'Burgo', '002', '0.88', '0.91']\n",
      "['W0666692', 'Nick', 'Burgo', '003', '0.95', '0.90']\n",
      "['W0666692', 'Nick', 'Burgo', '005', '0.87', '0.89']\n",
      "['W0666692', 'Nick', 'Burgo', '006', '0.81', '0.82']\n"
     ]
    }
   ],
   "source": [
    "studentRec = []\n",
    "print('Input a student number: ', end='')\n",
    "studID = input()\n",
    "print()\n",
    "\n",
    "for row in data:\n",
    "    i = 0\n",
    "    if(row[0] == studID):\n",
    "        print(row)\n",
    "        studentRec.append(row)\n",
    "    #\n",
    "    i = i + 1\n",
    "#"
   ]
  },
  {
   "cell_type": "markdown",
   "metadata": {},
   "source": [
    "### 5) Write the search result into a file with a file name which is consisted of W# and extention \"csv\". The file will be stored into the folder \"RESULT\". The first line of the file will have headers:"
   ]
  },
  {
   "cell_type": "code",
   "execution_count": 36,
   "metadata": {},
   "outputs": [
    {
     "name": "stdout",
     "output_type": "stream",
     "text": [
      "W0666692.csv\n"
     ]
    }
   ],
   "source": [
    "fileName = studID + '.csv'\n",
    "print(fileName)\n",
    "\n",
    "with open('RESULT/' + fileName, 'w', newline='') as csvfile:\n",
    "    mywriter = csv.writer(csvfile, delimiter=',', quotechar='\"')\n",
    "    mywriter.writerow(header)\n",
    "    for row in studentRec:\n",
    "        mywriter.writerow(row)\n",
    "#"
   ]
  },
  {
   "cell_type": "markdown",
   "metadata": {},
   "source": [
    "## <center> Part II </center>"
   ]
  },
  {
   "cell_type": "markdown",
   "metadata": {},
   "source": [
    "### 1) Ask user to enter two strings \"reference\" and \"pattern\":"
   ]
  },
  {
   "cell_type": "code",
   "execution_count": 29,
   "metadata": {},
   "outputs": [
    {
     "name": "stdin",
     "output_type": "stream",
     "text": [
      "Enter the reference string:\t I can move mountains.\n",
      "Enter the pattern string:\t valleys\n"
     ]
    }
   ],
   "source": [
    "reference = input(\"Enter the reference string:\\t\")\n",
    "pattern = input(\"Enter the pattern string:\\t\")\n"
   ]
  },
  {
   "cell_type": "markdown",
   "metadata": {},
   "source": [
    "### 2) Check if the pattern string is in the reference string. Display the result together with the input data:"
   ]
  },
  {
   "cell_type": "code",
   "execution_count": 30,
   "metadata": {},
   "outputs": [
    {
     "name": "stdout",
     "output_type": "stream",
     "text": [
      "Reference:\tI can move mountains.\n",
      "Pattern:\tvalleys\n",
      "\n",
      "The pattern string is not in the refernce string.\n"
     ]
    }
   ],
   "source": [
    "print(F\"Reference:\\t{reference}\\nPattern:\\t{pattern}\\n\")\n",
    "\n",
    "if pattern in reference:\n",
    "  print(\"The pattern string is in the refernce string.\")\n",
    "else:\n",
    "  print(\"The pattern string is not in the refernce string.\")\n",
    "#"
   ]
  },
  {
   "cell_type": "markdown",
   "metadata": {},
   "source": [
    "### 3) Split characters of both strings into the sets \"sRef\" and \"sPat\":"
   ]
  },
  {
   "cell_type": "code",
   "execution_count": 31,
   "metadata": {},
   "outputs": [],
   "source": [
    "sRef = set(reference)\n",
    "sPat = set(pattern)"
   ]
  },
  {
   "cell_type": "markdown",
   "metadata": {},
   "source": [
    "### 4) Check if sPat is a subset of sRef. Display the result together with the input data:"
   ]
  },
  {
   "cell_type": "code",
   "execution_count": 32,
   "metadata": {},
   "outputs": [
    {
     "name": "stdout",
     "output_type": "stream",
     "text": [
      "reference:\t I can move mountains.\n",
      "pattern:\t valleys\n",
      "\n",
      "sRef: {'m', 'u', 't', ' ', 'c', 'e', '.', 'n', 's', 'a', 'I', 'v', 'i', 'o'}\n",
      "sPat: {'e', 's', 'a', 'y', 'v', 'l'}\n",
      "\n",
      "Is sPat a subset of sRef?\n",
      "No, sPat is not a subset of sRef\n"
     ]
    }
   ],
   "source": [
    "print('reference:\\t',reference)\n",
    "print('pattern:\\t',pattern)\n",
    "\n",
    "print('\\nsRef:',sRef)\n",
    "print('sPat:', sPat)\n",
    "\n",
    "print('\\nIs sPat a subset of sRef?')\n",
    "if (sPat <= sRef):\n",
    "    print('Yes, sPat is a subset of sRef')\n",
    "\n",
    "else:\n",
    "    print('No, sPat is not a subset of sRef')\n"
   ]
  },
  {
   "cell_type": "markdown",
   "metadata": {},
   "source": [
    "## <center> Part III </center>"
   ]
  },
  {
   "cell_type": "markdown",
   "metadata": {},
   "source": [
    "### 1) Write a class \"Search_Pattern\" which will accomplish the tasks listed in Part-II. In the task-1, the string pairs \"reference\" and \"pattern\" must be read from a file:"
   ]
  },
  {
   "cell_type": "code",
   "execution_count": 21,
   "metadata": {},
   "outputs": [],
   "source": [
    "import csv\n",
    "\n",
    "class Search_Pattern:\n",
    "    def __init__(self, reference, pattern):\n",
    "        self.reference = reference\n",
    "        self.pattern = pattern\n",
    "        self.sPat = set(pattern)\n",
    "        self.sRef = set(reference)\n",
    "    #\n",
    "\n",
    "    def patInRef(self):\n",
    "        if self.pattern in self.reference:\n",
    "            return True\n",
    "        else:\n",
    "            return False\n",
    "        #\n",
    "    #\n",
    "\n",
    "    def itemsInRef(self):\n",
    "        if (self.sPat <= self.sRef):\n",
    "            return True\n",
    "        else:\n",
    "            return False\n",
    "    #\n",
    "\n",
    "    def printTerms(self):\n",
    "        print(f'Reference:\\t{self.reference}')\n",
    "        print(f'Pattern:\\t{self.pattern}')\n",
    "    #\n",
    "\n",
    "    def printSubsets(self):\n",
    "        print(f'sRef:\\t{self.sRef}')\n",
    "        print(f'sPat:\\t{self.sPat}')\n",
    "    #\n",
    "\n",
    "    def beginSearch(self):\n",
    "        self.printTerms()\n",
    "        print(f'The pattern is in the reference:\\t{self.patInRef()}')\n",
    "        print(f'The pattern is NOT in the reference:\\t{not self.patInRef()}')\n",
    "        if not self.patInRef():\n",
    "            if self.itemsInRef():\n",
    "                print(f'Do items of pattern make a subset of reference? Yes')\n",
    "            else:\n",
    "                print(f'Do items of pattern make a subset of reference? No')\n",
    "            #\n",
    "            self.printSubsets()\n",
    "        print()\n",
    "    #\n",
    "#"
   ]
  },
  {
   "cell_type": "markdown",
   "metadata": {},
   "source": [
    "### 2) Generate a test set of \"reference\" and \"pattern\" into a file \"Test_Data\" in INPUT. The test data must test following cases:\n",
    ">   <p>a. The pattern is in the reference.\n",
    "    <p>b. The pattern is NOT in the reference.\n",
    "    <p>c. The pattern is NOT in the reference but its items make a subset of the reference\n",
    "<h3>Test the class Search_Pattern using the test data. Display the result together with the input data:"
   ]
  },
  {
   "cell_type": "code",
   "execution_count": 23,
   "metadata": {},
   "outputs": [
    {
     "name": "stdout",
     "output_type": "stream",
     "text": [
      "Reference:\tGotta catch em all\n",
      "Pattern:\tcat\n",
      "The pattern is in the reference:\tTrue\n",
      "The pattern is NOT in the reference:\tFalse\n",
      "\n",
      "Reference:\tMy mind is going mile an hour\n",
      "Pattern:\toffice\n",
      "The pattern is in the reference:\tFalse\n",
      "The pattern is NOT in the reference:\tTrue\n",
      "Do items of pattern make a subset of reference? No\n",
      "sRef:\t{'h', ' ', 'm', 'n', 'g', 'u', 'r', 'i', 'l', 'M', 'e', 'a', 'o', 'y', 'd', 's'}\n",
      "sPat:\t{'f', 'i', 'e', 'c', 'o'}\n",
      "\n",
      "Reference:\tcharles, i am your lost brother\n",
      "Pattern:\tmichael\n",
      "The pattern is in the reference:\tFalse\n",
      "The pattern is NOT in the reference:\tTrue\n",
      "Do items of pattern make a subset of reference? Yes\n",
      "sRef:\t{'h', ' ', 'b', 'r', 'm', ',', 'u', 'i', 'l', 'a', 'e', 'o', 'y', 'c', 't', 's'}\n",
      "sPat:\t{'h', 'm', 'i', 'l', 'a', 'e', 'c'}\n",
      "\n"
     ]
    }
   ],
   "source": [
    "with open('INPUT/Test_Data.csv', newline='') as csvfile:\n",
    "    myreader = csv.reader(csvfile, skipinitialspace=True, delimiter=',', quotechar='\"')\n",
    "    next(myreader)\n",
    "    for row in myreader:\n",
    "        comparison = Search_Pattern(row[0],row[1])\n",
    "        comparison.beginSearch()\n",
    "    #\n",
    "#"
   ]
  }
 ],
 "metadata": {
  "kernelspec": {
   "display_name": "Python 3 (ipykernel)",
   "language": "python",
   "name": "python3"
  },
  "language_info": {
   "codemirror_mode": {
    "name": "ipython",
    "version": 3
   },
   "file_extension": ".py",
   "mimetype": "text/x-python",
   "name": "python",
   "nbconvert_exporter": "python",
   "pygments_lexer": "ipython3",
   "version": "3.12.4"
  }
 },
 "nbformat": 4,
 "nbformat_minor": 4
}
