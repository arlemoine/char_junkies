{
 "cells": [
  {
   "cell_type": "markdown",
   "id": "fb171cf4-2d3a-4224-833d-021d8b08037e",
   "metadata": {},
   "source": [
    "# Testing for Mutability"
   ]
  },
  {
   "cell_type": "markdown",
   "id": "3f503815-e123-4cd4-bffe-523f14ca6cf4",
   "metadata": {},
   "source": [
    "## int\n",
    "---"
   ]
  },
  {
   "cell_type": "code",
   "execution_count": 3,
   "id": "12e73586-dd09-4d54-9dd9-210a6214fe1c",
   "metadata": {},
   "outputs": [
    {
     "name": "stdout",
     "output_type": "stream",
     "text": [
      "BEFORE \n",
      "x = 5 \n",
      "Location: 9771944\n",
      "\n",
      "AFTER \n",
      "x = 2 \n",
      "Location: 9771848\n",
      "\n",
      " <class 'int'> is immutable\n"
     ]
    }
   ],
   "source": [
    "# Assign the variable x below with an example of some data type\n",
    "x = 5\n",
    "\n",
    "loc1 = id(x)z\n",
    "print('BEFORE', '\\nx =', x, '\\nLocation:', loc1)\n",
    "\n",
    "# Re-assign x below to check for mutability\n",
    "x = 2\n",
    "\n",
    "loc2 = id(x)\n",
    "print('\\nAFTER', '\\nx =', x, '\\nLocation:', loc2)\n",
    "\n",
    "if(loc1 == loc2):\n",
    "    print('\\nlocation',loc1,'matches location',loc2)\n",
    "    print(type(x), 'is mutable')\n",
    "else:\n",
    "    print('\\n', type(x), 'is immutable')"
   ]
  },
  {
   "cell_type": "markdown",
   "id": "fe04244b-7df1-42db-a41b-d191add52036",
   "metadata": {},
   "source": [
    "## bool\n",
    "---"
   ]
  },
  {
   "cell_type": "code",
   "execution_count": 4,
   "id": "fe4493f6-e354-4709-be07-260ed4885604",
   "metadata": {},
   "outputs": [
    {
     "name": "stdout",
     "output_type": "stream",
     "text": [
      "BEFORE \n",
      "x = True \n",
      "Location: 9767584\n",
      "\n",
      "AFTER \n",
      "x = False \n",
      "Location: 9767136\n",
      "\n",
      " <class 'bool'> is immutable\n"
     ]
    }
   ],
   "source": [
    "# Assign the variable x below with an example of some data type\n",
    "x = True\n",
    "\n",
    "loc1 = id(x)\n",
    "print('BEFORE', '\\nx =', x, '\\nLocation:', loc1)\n",
    "\n",
    "# Re-assign x below to check for mutability\n",
    "x = False\n",
    "\n",
    "loc2 = id(x)\n",
    "print('\\nAFTER', '\\nx =', x, '\\nLocation:', loc2)\n",
    "\n",
    "if(loc1 == loc2):\n",
    "    print('\\nlocation',loc1,'matches location',loc2)\n",
    "    print(type(x), 'is mutable')\n",
    "else:\n",
    "    print('\\n', type(x), 'is immutable')"
   ]
  },
  {
   "cell_type": "markdown",
   "id": "517c2283-4bd3-461d-8efe-4a8f39e63330",
   "metadata": {},
   "source": [
    "## frozenset\n",
    "---"
   ]
  },
  {
   "cell_type": "code",
   "execution_count": 5,
   "id": "771950c0-c8db-44df-9d28-d10578c0aaea",
   "metadata": {},
   "outputs": [
    {
     "name": "stdout",
     "output_type": "stream",
     "text": [
      "BEFORE \n",
      "x = frozenset({'cat', 'bear', 'dog'}) \n",
      "Location: 140677402698112\n",
      "\n",
      "AFTER \n",
      "x = frozenset({'cat', 'dog', 'mouse'}) \n",
      "Location: 140677402698784\n",
      "\n",
      " <class 'frozenset'> is immutable\n"
     ]
    }
   ],
   "source": [
    "# Assign the variable x below with an example of some data type\n",
    "x = frozenset({'cat', 'dog', 'bear'})\n",
    "\n",
    "loc1 = id(x)\n",
    "print('BEFORE', '\\nx =', x, '\\nLocation:', loc1)\n",
    "\n",
    "# Re-assign x below to check for mutability\n",
    "x = frozenset({'cat', 'dog', 'mouse'})\n",
    "\n",
    "loc2 = id(x)\n",
    "print('\\nAFTER', '\\nx =', x, '\\nLocation:', loc2)\n",
    "\n",
    "if(loc1 == loc2):\n",
    "    print('\\nlocation',loc1,'matches location',loc2)\n",
    "    print(type(x), 'is mutable')\n",
    "else:\n",
    "    print('\\n', type(x), 'is immutable')"
   ]
  },
  {
   "cell_type": "markdown",
   "id": "29aafda6-9deb-44b6-9e20-8f64e27524fb",
   "metadata": {},
   "source": [
    "## range\n",
    "---"
   ]
  },
  {
   "cell_type": "code",
   "execution_count": 6,
   "id": "f9b75908-0130-49c7-8f2b-faae464bd99d",
   "metadata": {},
   "outputs": [
    {
     "name": "stdout",
     "output_type": "stream",
     "text": [
      "BEFORE \n",
      "x = range(0, 5) \n",
      "Location: 140677391977040\n",
      "\n",
      "AFTER \n",
      "x = range(0, 2) \n",
      "Location: 140677391987840\n",
      "\n",
      " <class 'range'> is immutable\n"
     ]
    }
   ],
   "source": [
    "# Assign the variable x below with an example of some data type\n",
    "x = range(5)\n",
    "\n",
    "loc1 = id(x)\n",
    "print('BEFORE', '\\nx =', x, '\\nLocation:', loc1)\n",
    "\n",
    "# Re-assign x below to check for mutability\n",
    "x = range(2)\n",
    "\n",
    "loc2 = id(x)\n",
    "print('\\nAFTER', '\\nx =', x, '\\nLocation:', loc2)\n",
    "\n",
    "if(loc1 == loc2):\n",
    "    print('\\nlocation',loc1,'matches location',loc2)\n",
    "    print(type(x), 'is mutable')\n",
    "else:\n",
    "    print('\\n', type(x), 'is immutable')"
   ]
  },
  {
   "cell_type": "markdown",
   "id": "21037fb7-629a-4613-a7fa-49d13d26d553",
   "metadata": {},
   "source": [
    "## byte\n",
    "---"
   ]
  },
  {
   "cell_type": "code",
   "execution_count": 7,
   "id": "41d6977e-a904-43d1-9353-9a3a29bf8d26",
   "metadata": {},
   "outputs": [
    {
     "name": "stdout",
     "output_type": "stream",
     "text": [
      "BEFORE \n",
      "x = b'bear' \n",
      "Location: 140677391983472\n",
      "\n",
      "AFTER \n",
      "x = b'cat' \n",
      "Location: 140677391984384\n",
      "\n",
      " <class 'bytes'> is immutable\n"
     ]
    }
   ],
   "source": [
    "# Assign the variable x below with an example of some data type\n",
    "x = b'bear'\n",
    "\n",
    "loc1 = id(x)\n",
    "print('BEFORE', '\\nx =', x, '\\nLocation:', loc1)\n",
    "\n",
    "# Re-assign x below to check for mutability\n",
    "x = b'cat'\n",
    "\n",
    "loc2 = id(x)\n",
    "print('\\nAFTER', '\\nx =', x, '\\nLocation:', loc2)\n",
    "\n",
    "if(loc1 == loc2):\n",
    "    print('\\nlocation',loc1,'matches location',loc2)\n",
    "    print(type(x), 'is mutable')\n",
    "else:\n",
    "    print('\\n', type(x), 'is immutable')"
   ]
  },
  {
   "cell_type": "markdown",
   "id": "ef4872eb-5df9-4d09-97e2-ecfa3e8302c9",
   "metadata": {},
   "source": [
    "## NoneType\n",
    "---"
   ]
  },
  {
   "cell_type": "code",
   "execution_count": 9,
   "id": "021d1d8f-ab61-4a71-adcb-832c74ed70b8",
   "metadata": {},
   "outputs": [
    {
     "name": "stdout",
     "output_type": "stream",
     "text": [
      "<class 'NoneType'>\n"
     ]
    }
   ],
   "source": [
    "print(type(None))"
   ]
  },
  {
   "cell_type": "markdown",
   "id": "9370b009-3a3d-4492-bbf8-8d5afba43649",
   "metadata": {},
   "source": [
    "## bytearray\n",
    "---"
   ]
  },
  {
   "cell_type": "code",
   "execution_count": 11,
   "id": "70844395-8b6e-48be-8d85-aa008f834aed",
   "metadata": {},
   "outputs": [
    {
     "name": "stdout",
     "output_type": "stream",
     "text": [
      "BEFORE \n",
      "x = bytearray(b'\\x01\\x02\\x03\\x04\\x05') \n",
      "Location: 140677228591856\n",
      "\n",
      "AFTER \n",
      "x = bytearray(b'\\x00\\x02\\x03\\x04\\x05') \n",
      "Location: 140677228591856\n",
      "\n",
      "location 140677228591856 matches location 140677228591856\n",
      "<class 'bytearray'> is mutable\n"
     ]
    }
   ],
   "source": [
    "# Assign the variable x below with an example of some data type\n",
    "x = bytearray([1,2,3,4,5])\n",
    "\n",
    "loc1 = id(x)\n",
    "print('BEFORE', '\\nx =', x, '\\nLocation:', loc1)\n",
    "\n",
    "# Re-assign x below to check for mutability\n",
    "x[0] = 0\n",
    "\n",
    "loc2 = id(x)\n",
    "print('\\nAFTER', '\\nx =', x, '\\nLocation:', loc2)\n",
    "\n",
    "if(loc1 == loc2):\n",
    "    print('\\nlocation',loc1,'matches location',loc2)\n",
    "    print(type(x), 'is mutable')\n",
    "else:\n",
    "    print('\\n', type(x), 'is immutable')"
   ]
  },
  {
   "cell_type": "markdown",
   "id": "32d43fc9-cffa-424b-8338-9d296321b0dd",
   "metadata": {},
   "source": [
    "## memoryview\n",
    "---"
   ]
  },
  {
   "cell_type": "code",
   "execution_count": 12,
   "id": "a809860f-91a8-4ca4-8aad-5e04417e87b1",
   "metadata": {},
   "outputs": [
    {
     "name": "stdout",
     "output_type": "stream",
     "text": [
      "BEFORE \n",
      "x = <memory at 0x7ff1f8376f80> \n",
      "Location: 140677228228480\n",
      "\n",
      "AFTER \n",
      "x = <memory at 0x7ff1f8376f80> \n",
      "Location: 140677228228480\n",
      "\n",
      "location 140677228228480 matches location 140677228228480\n",
      "<class 'memoryview'> is mutable\n"
     ]
    }
   ],
   "source": [
    "# Assign the variable x below with an example of some data type\n",
    "y = bytearray(b'lions')\n",
    "x = memoryview(x)\n",
    "\n",
    "loc1 = id(x)\n",
    "print('BEFORE', '\\nx =', x, '\\nLocation:', loc1)\n",
    "\n",
    "# Re-assign x below to check for mutability\n",
    "y = bytearray(b'tigers')\n",
    "\n",
    "loc2 = id(x)\n",
    "print('\\nAFTER', '\\nx =', x, '\\nLocation:', loc2)\n",
    "\n",
    "if(loc1 == loc2):\n",
    "    print('\\nlocation',loc1,'matches location',loc2)\n",
    "    print(type(x), 'is mutable')\n",
    "else:\n",
    "    print('\\n', type(x), 'is immutable')"
   ]
  },
  {
   "cell_type": "markdown",
   "id": "ac69a512-6f67-411b-a8d7-a5dfa5f5333c",
   "metadata": {},
   "source": [
    "## 2 - Dictionary"
   ]
  }
 ],
 "metadata": {
  "kernelspec": {
   "display_name": "Python 3 (ipykernel)",
   "language": "python",
   "name": "python3"
  },
  "language_info": {
   "codemirror_mode": {
    "name": "ipython",
    "version": 3
   },
   "file_extension": ".py",
   "mimetype": "text/x-python",
   "name": "python",
   "nbconvert_exporter": "python",
   "pygments_lexer": "ipython3",
   "version": "3.12.4"
  }
 },
 "nbformat": 4,
 "nbformat_minor": 5
}
