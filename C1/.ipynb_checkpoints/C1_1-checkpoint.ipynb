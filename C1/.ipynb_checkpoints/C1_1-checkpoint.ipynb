{
 "cells": [
  {
   "cell_type": "markdown",
   "metadata": {},
   "source": [
    "# <center>CHALLENGE 1<center>"
   ]
  },
  {
   "cell_type": "markdown",
   "metadata": {},
   "source": [
    "<p>Team Name:\n",
    "<p>Student Names:"
   ]
  },
  {
   "cell_type": "markdown",
   "metadata": {},
   "source": [
    "## Instructions\n",
    "Use generic coding style unless hard-coded values are really necessary.<br>\n",
    "Your code must be efficient and use self-explanatory naming.<br>\n",
    "Run your entire code and save. Then submit this <b>saved</b> copy."
   ]
  },
  {
   "cell_type": "markdown",
   "metadata": {},
   "source": [
    "## Imports"
   ]
  },
  {
   "cell_type": "code",
   "execution_count": null,
   "metadata": {},
   "outputs": [],
   "source": []
  },
  {
   "cell_type": "markdown",
   "metadata": {},
   "source": [
    "## Format"
   ]
  },
  {
   "cell_type": "code",
   "execution_count": 13,
   "metadata": {},
   "outputs": [
    {
     "name": "stdout",
     "output_type": "stream",
     "text": [
      "id(A):  140707840953600\n",
      "<class 'str'>  is a mutable data type!\n",
      "id(A):  140707840953600\n"
     ]
    }
   ],
   "source": [
    "A = ''#initialize your variable with a value of the data type. Remove this comment.\n",
    "print(\"id(A): \",id(A))\n",
    "\n",
    "try:\n",
    "    #at this line, write your code to modify the variable \"A\",\n",
    "    #do not 'assign' a new value to \"A\"!. See the example below.\n",
    "    #Remove this comment section and the example section below.\n",
    "    '''\n",
    "    Remove this example section before submitting your work\n",
    "    Example:\n",
    "\n",
    "    A = 'str1'\n",
    "    A[0] = 'b'\n",
    "    '''\n",
    "    \n",
    "    print(type(A),\" is a mutable data type!\")\n",
    "\n",
    "except:\n",
    "    print(type(A),\" is an immutable data type!\")\n",
    "finally:\n",
    "    print(\"id(A): \",id(A))    \n",
    "#\n"
   ]
  },
  {
   "cell_type": "code",
   "execution_count": 3,
   "metadata": {},
   "outputs": [
    {
     "name": "stdout",
     "output_type": "stream",
     "text": [
      "id(my_memoryview):  2414428635776\n",
      "<class 'memoryview'>  is a mutable data type!\n",
      "id(my_memoryview):  2414431881152\n"
     ]
    }
   ],
   "source": [
    "\n",
    "my_bytes = bytearray(b\"Hello, world!\")\n",
    "print(\"id(my_memoryview): \",id(my_memoryview))\n",
    "\n",
    "\n",
    "my_memoryview = memoryview(my_bytes)\n",
    "\n",
    "\n",
    "try:\n",
    "    my_memoryview[0] = 72 \n",
    "    print(type(my_memoryview),\" is a mutable data type!\")\n",
    "    \n",
    "except: \n",
    "    print(type(my_memoryview),\" is an immutable data type!\")\n",
    "finally:\n",
    "    print(\"id(my_memoryview): \",id(my_memoryview))"
   ]
  },
  {
   "cell_type": "markdown",
   "metadata": {},
   "source": [
    "# IMMUTABLE OBJECTS"
   ]
  },
  {
   "cell_type": "markdown",
   "metadata": {},
   "source": [
    "## 1 - String"
   ]
  },
  {
   "cell_type": "code",
   "execution_count": 14,
   "metadata": {},
   "outputs": [
    {
     "name": "stdout",
     "output_type": "stream",
     "text": [
      "id(A):  2429325592640\n",
      "<class 'str'>  is an immutable data type!\n",
      "id(A):  2429325592640\n"
     ]
    }
   ],
   "source": [
    "myString = 'abcd'\n",
    "print(\"id(myString): \",id(myString))\n",
    "try:\n",
    "    myString[0] = 'b'\n",
    "    print(type(myString),\" is a mutable data type!\")\n",
    "except:\n",
    "    print(type(myString),\" is an immutable data type!\")\n",
    "finally:\n",
    "    print(\"id(myString): \",id(myString))\n",
    "#"
   ]
  },
  {
   "cell_type": "markdown",
   "metadata": {},
   "source": [
    "## 2 - Tuple"
   ]
  },
  {
   "cell_type": "code",
   "execution_count": 15,
   "metadata": {},
   "outputs": [
    {
     "name": "stdout",
     "output_type": "stream",
     "text": [
      "id(mytuple):  2429326860288\n",
      "<class 'tuple'>  is an immutable data type!\n",
      "id(mytuple):  2429326860288\n"
     ]
    }
   ],
   "source": [
    "myTuple = (\"Chris\" , \"Adriean\", \"Micholas\")\n",
    "print(\"id(myTuple): \", id(myTuple))\n",
    "try:\n",
    "    myTuple[2] = \"Nicholas\"\n",
    "    print(type(myTuple), \" is a mutable data type!\")\n",
    "except:\n",
    "    print(type(myTuple), \" is an immutable data type!\")\n",
    "finally:\n",
    "    print(\"id(myTuple): \", id(myTuple))"
   ]
  },
  {
   "cell_type": "markdown",
   "metadata": {},
   "source": [
    "## 3 - Integer"
   ]
  },
  {
   "cell_type": "code",
   "execution_count": 25,
   "metadata": {},
   "outputs": [
    {
     "name": "stdout",
     "output_type": "stream",
     "text": [
      "id(myint):  140707840932408\n",
      "<class 'int'>  is an immutable data type!\n",
      "id(myint):  140707840932408\n"
     ]
    }
   ],
   "source": [
    "myInt = int(5)\n",
    "print(\"id(myInt): \", id(myInt))\n",
    "try:\n",
    "    myInt[0] = 3\n",
    "    print(type(myInt), \" is a mutable data type!\")\n",
    "except:\n",
    "    print(type(myInt), \" is an immutable data type!\")\n",
    "finally:\n",
    "    print(\"id(myInt): \", id(myInt))"
   ]
  },
  {
   "cell_type": "markdown",
   "metadata": {},
   "source": [
    "## 4 - Float"
   ]
  },
  {
   "cell_type": "code",
   "execution_count": 17,
   "metadata": {},
   "outputs": [
    {
     "name": "stdout",
     "output_type": "stream",
     "text": [
      "id(myfloat):  2429324238640\n",
      "<class 'float'>  is an immutable data type!\n",
      "id(myfloat):  2429324238640\n",
      "Value of myfloat: 3.9\n"
     ]
    }
   ],
   "source": [
    "myFloat = 3.9\n",
    "print(\"id(myFloat): \", id(myFloat))\n",
    "try:\n",
    "    myFloat[0] = 7.5\n",
    "    print(type(myFloat), \" is a mutable data type!\")\n",
    "except:\n",
    "    print(type(myFloat), \" is an immutable data type!\")\n",
    "finally:\n",
    "    print(\"id(myFloat): \", id(myFloat))\n",
    "    print(\"Value of myFloat:\", myFloat)"
   ]
  },
  {
   "cell_type": "markdown",
   "metadata": {},
   "source": [
    "## 5 - Complex"
   ]
  },
  {
   "cell_type": "code",
   "execution_count": null,
   "metadata": {},
   "outputs": [],
   "source": [
    "myComplex = complex(1, 2)\n",
    "print(\"id(myComplex):\", id(A))\n",
    "try:\n",
    "    myComplex.real = 5\n",
    "    print(type(myComplex), \"is a mutable data type!\")\n",
    "except:\n",
    "    print(type(myComplex), \"is an immutable data type!\")\n",
    "finally:\n",
    "    print(\"id(myComplex):\", id(myComplex))\n",
    "#"
   ]
  },
  {
   "cell_type": "markdown",
   "metadata": {},
   "source": [
    "## 6 - Boolean"
   ]
  },
  {
   "cell_type": "code",
   "execution_count": 18,
   "metadata": {},
   "outputs": [
    {
     "name": "stdout",
     "output_type": "stream",
     "text": [
      "id(mybool):  140707839806336\n",
      "<class 'bool'>  is an immutable data type!\n",
      "id(mybool):  140707839806336\n",
      "Value of mybool: True\n"
     ]
    }
   ],
   "source": [
    "myBool = True\n",
    "print(\"id(myBool): \", id(myBool))\n",
    "try:\n",
    "    myBool[0] = not True\n",
    "    print(type(myBool), \" is a mutable data type!\")\n",
    "except:\n",
    "    print(type(myBool), \" is an immutable data type!\")\n",
    "finally:\n",
    "    print(\"id(myBool): \", id(myBool))\n",
    "    print(\"Value of myBool:\", myBool)"
   ]
  },
  {
   "cell_type": "markdown",
   "metadata": {},
   "source": [
    "## 7 - Frozen Set"
   ]
  },
  {
   "cell_type": "code",
   "execution_count": null,
   "metadata": {},
   "outputs": [],
   "source": [
    "myFrozenSet = myFrozenSet([1, 2, 3, 4])\n",
    "print(\"id(myFrozenSet):\", id(myFrozenSet))\n",
    "\n",
    "try:\n",
    "    myFrozenSet.add(5)\n",
    "    print(type(myFrozenSet), \"is a mutable data type!\")\n",
    "except:\n",
    "    print(type(myFrozenSet), \"is an immutable data type!\")\n",
    "finally:\n",
    "    print(\"id(myFrozenSet):\", id(myFrozenSet))"
   ]
  },
  {
   "cell_type": "markdown",
   "metadata": {},
   "source": [
    "## 8 - Range"
   ]
  },
  {
   "cell_type": "code",
   "execution_count": null,
   "metadata": {},
   "outputs": [],
   "source": [
    "myRange = range(5)\n",
    "print(\"id(myRange):\", id(myRange))\n",
    "try:\n",
    "    myRange[0] = 2 \n",
    "    print(type(myRange), \"is a mutable data type!\")\n",
    "except: \n",
    "    print(type(myRange), \"is an immutable data type!\")\n",
    "finally:\n",
    "    print(\"id(myRange):\", id(myRange))\n",
    "#"
   ]
  },
  {
   "cell_type": "markdown",
   "metadata": {},
   "source": [
    "## 9 - Bytes"
   ]
  },
  {
   "cell_type": "code",
   "execution_count": null,
   "metadata": {},
   "outputs": [],
   "source": [
    "myBytes = b'abcd'\n",
    "print(\"id(myBytes):\", id(myBytes))\n",
    "try:\n",
    "    myBytes[0] = ord('b')\n",
    "    print(type(myBytes), \"is a mutable data type!\")\n",
    "except:\n",
    "    print(type(myBytes), \"is an immutable data type!\")\n",
    "finally:\n",
    "    print(\"id(myBytes):\", id(myBytes))\n",
    "#"
   ]
  },
  {
   "cell_type": "markdown",
   "metadata": {},
   "source": [
    "## 10 - NoneType"
   ]
  },
  {
   "cell_type": "code",
   "execution_count": 19,
   "metadata": {},
   "outputs": [
    {
     "name": "stdout",
     "output_type": "stream",
     "text": [
      "id(myNone):  9678144\n",
      "None\n",
      "<class 'NoneType'>  is an immutable data type!\n",
      "id(myNone):  9678144\n",
      "None\n"
     ]
    }
   ],
   "source": [
    "myNone = None\n",
    "print(\"id(myNone): \",id(myNone))\n",
    "try:\n",
    "    myNone[0] = 1\n",
    "    print(type(myNone),\" is a mutable data type!\")\n",
    "except:\n",
    "    print(type(myNone),\" is an immutable data type!\")\n",
    "finally:\n",
    "    print(\"id(myNone): \",id(myNone))"
   ]
  },
  {
   "cell_type": "markdown",
   "metadata": {},
   "source": [
    "# MUTABLE OBJECTS"
   ]
  },
  {
   "cell_type": "markdown",
   "metadata": {},
   "source": [
    "## 1 - List"
   ]
  },
  {
   "cell_type": "code",
   "execution_count": 20,
   "metadata": {
    "scrolled": true
   },
   "outputs": [
    {
     "name": "stdout",
     "output_type": "stream",
     "text": [
      "id(A):  140707839887312\n",
      "<class 'NoneType'>  is a mutable data type!\n",
      "id(A):  140707839887312\n"
     ]
    }
   ],
   "source": [
    "myList = ['a','b','c','d']\n",
    "print(\"id(myList): \",id(myList))\n",
    "try:\n",
    "    myList[0] = 'A'\n",
    "    print(type(myList),\" is a mutable data type!\")\n",
    "except:\n",
    "    print(type(myList),\" is an immutable data type!\")\n",
    "finally:\n",
    "    print(\"id(myList): \",id(myList))\n",
    "#"
   ]
  },
  {
   "cell_type": "markdown",
   "metadata": {},
   "source": [
    "## 2 - Set"
   ]
  },
  {
   "cell_type": "code",
   "execution_count": 23,
   "metadata": {},
   "outputs": [
    {
     "name": "stdout",
     "output_type": "stream",
     "text": [
      "id(myset):  2429325879648\n",
      "<class 'set'>  is a mutable data type!\n",
      "id(myset):  2429325879648\n"
     ]
    }
   ],
   "source": [
    "mySet = {\"a\", \"d\", \"c\"}\n",
    "print(\"id(myset): \", id(mySet))\n",
    "try:\n",
    "    mySet.add(\"b\") \n",
    "    print(type(mySet), \" is a mutable data type!\")\n",
    "except:\n",
    "    print(type(mySet), \"is an immutable data type!\")\n",
    "finally:\n",
    "    print(\"id(mySet): \", id(mySet))"
   ]
  },
  {
   "attachments": {},
   "cell_type": "markdown",
   "metadata": {},
   "source": [
    "## 3 - Dictionary"
   ]
  },
  {
   "cell_type": "code",
   "execution_count": 3,
   "metadata": {},
   "outputs": [
    {
     "name": "stdout",
     "output_type": "stream",
     "text": [
      "id(myDict): 140574501084160\n",
      "<class 'dict'> is a mutable data type!\n",
      "id(myDict): 140574501084160\n"
     ]
    }
   ],
   "source": [
    "myDict = { 'Person1': 1, 'Person2': 2, 'Person3': 3, 'Person4': 4, 'Person5': 5 }\n",
    "print(\"id(myDict):\", id(myDict))\n",
    "\n",
    "try:\n",
    "    myDict['Person1'] = 10\n",
    "    print(type(myDict), \"is a mutable data type!\") \n",
    "except:\n",
    "    print(type(myDict), \"is an immutable data type!\")\n",
    "finally:\n",
    "    print(\"id(myDict):\", id(myDict))\n",
    "#"
   ]
  },
  {
   "cell_type": "markdown",
   "metadata": {},
   "source": [
    "## 4 - Byte Array"
   ]
  },
  {
   "cell_type": "code",
   "execution_count": null,
   "metadata": {},
   "outputs": [],
   "source": [
    "myByteArray = bytearray(b'abcd')\n",
    "print(\"id(myByteArray):\", id(myByteArray))\n",
    "try:\n",
    "    myByteArray[0] = ord('b')\n",
    "    print(type(myByteArray), \"is a mutable data type!\")\n",
    "except:\n",
    "    print(type(myByteArray), \"is an immutable data type!\")\n",
    "finally:\n",
    "    print(\"id(myByteArray):\", id(myByteArray))\n",
    "#"
   ]
  },
  {
   "cell_type": "markdown",
   "metadata": {},
   "source": [
    "## 5 - Memory View"
   ]
  },
  {
   "cell_type": "code",
   "execution_count": 1,
   "metadata": {},
   "outputs": [
    {
     "name": "stdout",
     "output_type": "stream",
     "text": [
      "id(mybyte):  2705121239088\n",
      "<class 'memoryview'>  is a mutable data type!\n",
      "id(myview):  2705118024448\n"
     ]
    }
   ],
   "source": [
    "myByte = bytearray(b\"hello\")\n",
    "print(\"id(myByte): \", id(myByte))\n",
    "\n",
    "myView = memoryview(mybyte)\n",
    "try:\n",
    "    myView[0] = 10\n",
    "    print(type(myView),\" is a mutable data type!\")\n",
    "except:\n",
    "    print(type(myView),\" is an immutable data type!\")\n",
    "finally:\n",
    "    print(\"id(myView): \",id(myView))"
   ]
  }
 ],
 "metadata": {
  "kernelspec": {
   "display_name": "Python 3 (ipykernel)",
   "language": "python",
   "name": "python3"
  },
  "language_info": {
   "codemirror_mode": {
    "name": "ipython",
    "version": 3
   },
   "file_extension": ".py",
   "mimetype": "text/x-python",
   "name": "python",
   "nbconvert_exporter": "python",
   "pygments_lexer": "ipython3",
   "version": "3.12.4"
  }
 },
 "nbformat": 4,
 "nbformat_minor": 4
}
