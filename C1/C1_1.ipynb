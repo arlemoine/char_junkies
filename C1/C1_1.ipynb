{
 "cells": [
  {
   "cell_type": "markdown",
   "metadata": {},
   "source": [
    "# <center>CHALLENGE 1<center>"
   ]
  },
  {
   "cell_type": "markdown",
   "metadata": {},
   "source": [
    "<p>Team Name: char junkies\n",
    "<p>Student Names: Adriean Lemoine, Nick Burgo, Chris Smith"
   ]
  },
  {
   "cell_type": "markdown",
   "metadata": {},
   "source": [
    "## Instructions\n",
    "Use generic coding style unless hard-coded values are really necessary.<br>\n",
    "Your code must be efficient and use self-explanatory naming.<br>\n",
    "Run your entire code and save. Then submit this <b>saved</b> copy."
   ]
  },
  {
   "cell_type": "markdown",
   "metadata": {},
   "source": [
    "## Imports"
   ]
  },
  {
   "cell_type": "code",
   "execution_count": null,
   "metadata": {},
   "outputs": [],
   "source": []
  },
  {
   "cell_type": "markdown",
   "metadata": {},
   "source": [
    "## Format"
   ]
  },
  {
   "cell_type": "code",
   "execution_count": 29,
   "metadata": {},
   "outputs": [
    {
     "name": "stdout",
     "output_type": "stream",
     "text": [
      "id(A):  9793136\n",
      "<class 'str'>  is a mutable data type!\n",
      "id(A):  9793136\n"
     ]
    }
   ],
   "source": [
    "A = ''#initialize your variable with a value of the data type. Remove this comment.\n",
    "print(\"id(A): \",id(A))\n",
    "\n",
    "try:\n",
    "    #at this line, write your code to modify the variable \"A\",\n",
    "    #do not 'assign' a new value to \"A\"!. See the example below.\n",
    "    #Remove this comment section and the example section below.\n",
    "    print(type(A),\" is a mutable data type!\")\n",
    "\n",
    "except:\n",
    "    print(type(A),\" is an immutable data type!\")\n",
    "finally:\n",
    "    print(\"id(A): \",id(A))    \n",
    "#\n"
   ]
  },
  {
   "cell_type": "markdown",
   "metadata": {},
   "source": [
    "# IMMUTABLE OBJECTS"
   ]
  },
  {
   "cell_type": "markdown",
   "metadata": {},
   "source": [
    "## 1 - String"
   ]
  },
  {
   "cell_type": "code",
   "execution_count": 30,
   "metadata": {},
   "outputs": [
    {
     "name": "stdout",
     "output_type": "stream",
     "text": [
      "id(myString):  140574501193744\n",
      "<class 'str'>  is an immutable data type!\n",
      "id(myString):  140574501193744\n"
     ]
    }
   ],
   "source": [
    "myString = 'abcd'\n",
    "print(\"id(myString): \",id(myString))\n",
    "try:\n",
    "    myString[0] = 'b'\n",
    "    print(type(myString),\" is a mutable data type!\")\n",
    "except:\n",
    "    print(type(myString),\" is an immutable data type!\")\n",
    "finally:\n",
    "    print(\"id(myString): \",id(myString))"
   ]
  },
  {
   "cell_type": "markdown",
   "metadata": {},
   "source": [
    "## 2 - Tuple"
   ]
  },
  {
   "cell_type": "code",
   "execution_count": 31,
   "metadata": {},
   "outputs": [
    {
     "name": "stdout",
     "output_type": "stream",
     "text": [
      "id(myTuple):  140574392541312\n",
      "<class 'tuple'>  is an immutable data type!\n",
      "id(myTuple):  140574392541312\n"
     ]
    }
   ],
   "source": [
    "myTuple = (\"Chris\" , \"Adriean\", \"Micholas\")\n",
    "print(\"id(myTuple): \", id(myTuple))\n",
    "try:\n",
    "    myTuple[2] = \"Nicholas\"\n",
    "    print(type(myTuple), \" is a mutable data type!\")\n",
    "except:\n",
    "    print(type(myTuple), \" is an immutable data type!\")\n",
    "finally:\n",
    "    print(\"id(myTuple): \", id(myTuple))"
   ]
  },
  {
   "cell_type": "markdown",
   "metadata": {},
   "source": [
    "## 3 - Integer"
   ]
  },
  {
   "cell_type": "code",
   "execution_count": 32,
   "metadata": {},
   "outputs": [
    {
     "name": "stdout",
     "output_type": "stream",
     "text": [
      "id(myInt):  9771944\n",
      "<class 'int'>  is an immutable data type!\n",
      "id(myInt):  9771944\n"
     ]
    }
   ],
   "source": [
    "myInt = int(5)\n",
    "print(\"id(myInt): \", id(myInt))\n",
    "try:\n",
    "    myInt[0] = 3\n",
    "    print(type(myInt), \" is a mutable data type!\")\n",
    "except:\n",
    "    print(type(myInt), \" is an immutable data type!\")\n",
    "finally:\n",
    "    print(\"id(myInt): \", id(myInt))"
   ]
  },
  {
   "cell_type": "markdown",
   "metadata": {},
   "source": [
    "## 4 - Float"
   ]
  },
  {
   "cell_type": "code",
   "execution_count": 33,
   "metadata": {},
   "outputs": [
    {
     "name": "stdout",
     "output_type": "stream",
     "text": [
      "id(myFloat):  140574403114928\n",
      "<class 'float'>  is an immutable data type!\n",
      "id(myFloat):  140574403114928\n"
     ]
    }
   ],
   "source": [
    "myFloat = 3.9\n",
    "print(\"id(myFloat): \", id(myFloat))\n",
    "try:\n",
    "    myFloat[0] = 7.5\n",
    "    print(type(myFloat), \" is a mutable data type!\")\n",
    "except:\n",
    "    print(type(myFloat), \" is an immutable data type!\")\n",
    "finally:\n",
    "    print(\"id(myFloat): \", id(myFloat))"
   ]
  },
  {
   "cell_type": "markdown",
   "metadata": {},
   "source": [
    "## 5 - Complex"
   ]
  },
  {
   "cell_type": "code",
   "execution_count": 34,
   "metadata": {},
   "outputs": [
    {
     "name": "stdout",
     "output_type": "stream",
     "text": [
      "id(myComplex): 140574403116176\n",
      "<class 'complex'> is an immutable data type!\n",
      "id(myComplex): 140574403116176\n"
     ]
    }
   ],
   "source": [
    "myComplex = complex(1, 2)\n",
    "print(\"id(myComplex):\", id(myComplex))\n",
    "try:\n",
    "    myComplex.real = 5\n",
    "    print(type(myComplex), \"is a mutable data type!\")\n",
    "except:\n",
    "    print(type(myComplex), \"is an immutable data type!\")\n",
    "finally:\n",
    "    print(\"id(myComplex):\", id(myComplex))\n",
    "#"
   ]
  },
  {
   "cell_type": "markdown",
   "metadata": {},
   "source": [
    "## 6 - Boolean"
   ]
  },
  {
   "cell_type": "code",
   "execution_count": 35,
   "metadata": {},
   "outputs": [
    {
     "name": "stdout",
     "output_type": "stream",
     "text": [
      "id(myBool):  9767584\n",
      "<class 'bool'>  is an immutable data type!\n",
      "id(myBool):  9767584\n"
     ]
    }
   ],
   "source": [
    "myBool = True\n",
    "print(\"id(myBool): \", id(myBool))\n",
    "try:\n",
    "    myBool[0] = False\n",
    "    print(type(myBool), \" is a mutable data type!\")\n",
    "except:\n",
    "    print(type(myBool), \" is an immutable data type!\")\n",
    "finally:\n",
    "    print(\"id(myBool): \", id(myBool))"
   ]
  },
  {
   "cell_type": "markdown",
   "metadata": {},
   "source": [
    "## 7 - Frozen Set"
   ]
  },
  {
   "cell_type": "code",
   "execution_count": 36,
   "metadata": {},
   "outputs": [
    {
     "name": "stdout",
     "output_type": "stream",
     "text": [
      "id(myFrozenSet): 140574501298336\n",
      "<class 'frozenset'> is an immutable data type!\n",
      "id(myFrozenSet): 140574501298336\n"
     ]
    }
   ],
   "source": [
    "myFrozenSet = frozenset([1, 2, 3, 4])\n",
    "print(\"id(myFrozenSet):\", id(myFrozenSet))\n",
    "\n",
    "try:\n",
    "    myFrozenSet.add(5)\n",
    "    print(type(myFrozenSet), \"is a mutable data type!\")\n",
    "except:\n",
    "    print(type(myFrozenSet), \"is an immutable data type!\")\n",
    "finally:\n",
    "    print(\"id(myFrozenSet):\", id(myFrozenSet))"
   ]
  },
  {
   "cell_type": "markdown",
   "metadata": {},
   "source": [
    "## 8 - Range"
   ]
  },
  {
   "cell_type": "code",
   "execution_count": 37,
   "metadata": {},
   "outputs": [
    {
     "name": "stdout",
     "output_type": "stream",
     "text": [
      "id(myRange): 140574489831504\n",
      "<class 'range'> is an immutable data type!\n",
      "id(myRange): 140574489831504\n"
     ]
    }
   ],
   "source": [
    "myRange = range(5)\n",
    "print(\"id(myRange):\", id(myRange))\n",
    "try:\n",
    "    myRange[0] = 2 \n",
    "    print(type(myRange), \"is a mutable data type!\")\n",
    "except: \n",
    "    print(type(myRange), \"is an immutable data type!\")\n",
    "finally:\n",
    "    print(\"id(myRange):\", id(myRange))"
   ]
  },
  {
   "cell_type": "markdown",
   "metadata": {},
   "source": [
    "## 9 - Bytes"
   ]
  },
  {
   "cell_type": "code",
   "execution_count": 38,
   "metadata": {},
   "outputs": [
    {
     "name": "stdout",
     "output_type": "stream",
     "text": [
      "id(myBytes): 140574489825984\n",
      "<class 'bytes'> is an immutable data type!\n",
      "id(myBytes): 140574489825984\n"
     ]
    }
   ],
   "source": [
    "myBytes = bytes(\"cat\",\"UTF-8\")\n",
    "print(\"id(myBytes):\", id(myBytes))\n",
    "try:\n",
    "    myBytes[0] = \"h\"\n",
    "    print(type(myBytes), \"is a mutable data type!\")\n",
    "except:\n",
    "    print(type(myBytes), \"is an immutable data type!\")\n",
    "finally:\n",
    "    print(\"id(myBytes):\", id(myBytes))"
   ]
  },
  {
   "cell_type": "markdown",
   "metadata": {},
   "source": [
    "## 10 - NoneType"
   ]
  },
  {
   "cell_type": "code",
   "execution_count": 39,
   "metadata": {},
   "outputs": [
    {
     "name": "stdout",
     "output_type": "stream",
     "text": [
      "id(myNone):  9678144\n",
      "<class 'NoneType'>  is an immutable data type!\n",
      "id(myNone):  9678144\n"
     ]
    }
   ],
   "source": [
    "myNone = None\n",
    "print(\"id(myNone): \",id(myNone))\n",
    "try:\n",
    "    myNone[0] = 1\n",
    "    print(type(myNone),\" is a mutable data type!\")\n",
    "except:\n",
    "    print(type(myNone),\" is an immutable data type!\")\n",
    "finally:\n",
    "    print(\"id(myNone): \",id(myNone))"
   ]
  },
  {
   "cell_type": "markdown",
   "metadata": {},
   "source": [
    "# MUTABLE OBJECTS"
   ]
  },
  {
   "cell_type": "markdown",
   "metadata": {},
   "source": [
    "## 1 - List"
   ]
  },
  {
   "cell_type": "code",
   "execution_count": 40,
   "metadata": {
    "scrolled": true
   },
   "outputs": [
    {
     "name": "stdout",
     "output_type": "stream",
     "text": [
      "id(myList):  140574392407552\n",
      "<class 'list'>  is a mutable data type!\n",
      "id(myList):  140574392407552\n"
     ]
    }
   ],
   "source": [
    "myList = ['a','b','c','d']\n",
    "print(\"id(myList): \",id(myList))\n",
    "try:\n",
    "    myList[0] = 'A'\n",
    "    print(type(myList),\" is a mutable data type!\")\n",
    "except:\n",
    "    print(type(myList),\" is an immutable data type!\")\n",
    "finally:\n",
    "    print(\"id(myList): \",id(myList))"
   ]
  },
  {
   "cell_type": "markdown",
   "metadata": {},
   "source": [
    "## 2 - Set"
   ]
  },
  {
   "cell_type": "code",
   "execution_count": 41,
   "metadata": {},
   "outputs": [
    {
     "name": "stdout",
     "output_type": "stream",
     "text": [
      "id(myset):  140574501298784\n",
      "<class 'set'>  is a mutable data type!\n",
      "id(mySet):  140574501298784\n"
     ]
    }
   ],
   "source": [
    "mySet = {\"a\", \"d\", \"c\"}\n",
    "print(\"id(myset): \", id(mySet))\n",
    "try:\n",
    "    mySet.add(\"b\") \n",
    "    print(type(mySet), \" is a mutable data type!\")\n",
    "except:\n",
    "    print(type(mySet), \"is an immutable data type!\")\n",
    "finally:\n",
    "    print(\"id(mySet): \", id(mySet))"
   ]
  },
  {
   "attachments": {},
   "cell_type": "markdown",
   "metadata": {},
   "source": [
    "## 3 - Dictionary"
   ]
  },
  {
   "cell_type": "code",
   "execution_count": 42,
   "metadata": {},
   "outputs": [
    {
     "name": "stdout",
     "output_type": "stream",
     "text": [
      "id(myDict): 140574392421056\n",
      "<class 'dict'> is a mutable data type!\n",
      "id(myDict): 140574392421056\n"
     ]
    }
   ],
   "source": [
    "myDict = { 'Person1': 1, 'Person2': 2, 'Person3': 3, 'Person4': 4, 'Person5': 5 }\n",
    "print(\"id(myDict):\", id(myDict))\n",
    "try:\n",
    "    myDict['Person1'] = 10\n",
    "    print(type(myDict), \"is a mutable data type!\") \n",
    "except:\n",
    "    print(type(myDict), \"is an immutable data type!\")\n",
    "finally:\n",
    "    print(\"id(myDict):\", id(myDict))"
   ]
  },
  {
   "cell_type": "markdown",
   "metadata": {},
   "source": [
    "## 4 - Byte Array"
   ]
  },
  {
   "cell_type": "code",
   "execution_count": 43,
   "metadata": {},
   "outputs": [
    {
     "name": "stdout",
     "output_type": "stream",
     "text": [
      "id(myByteArray): 140574392467248\n",
      "<class 'bytearray'> is a mutable data type!\n",
      "id(myByteArray): 140574392467248\n"
     ]
    }
   ],
   "source": [
    "myByteArray = bytearray(\"cat\",\"UTF-8\")\n",
    "print(\"id(myByteArray):\", id(myByteArray))\n",
    "try:\n",
    "    myByteArray[0] = ord(\"h\")\n",
    "    print(type(myByteArray), \"is a mutable data type!\")\n",
    "except:\n",
    "    print(type(myByteArray), \"is an immutable data type!\")\n",
    "finally:\n",
    "    print(\"id(myByteArray):\", id(myByteArray))"
   ]
  },
  {
   "cell_type": "markdown",
   "metadata": {},
   "source": [
    "## 5 - Memory View"
   ]
  },
  {
   "cell_type": "code",
   "execution_count": 44,
   "metadata": {},
   "outputs": [
    {
     "name": "stdout",
     "output_type": "stream",
     "text": [
      "id(myByteArray):  140574392467248\n",
      "id(myView):  140574392212672\n",
      "<class 'memoryview'>  is a mutable data type!\n",
      "id(myView):  140574392212672\n"
     ]
    }
   ],
   "source": [
    "print(\"id(myByteArray): \", id(myByteArray))\n",
    "myView = memoryview(myByteArray)\n",
    "print(\"id(myView): \", id(myView))\n",
    "try:\n",
    "    myView[0] = 10\n",
    "    print(type(myView),\" is a mutable data type!\")\n",
    "except:\n",
    "    print(type(myView),\" is an immutable data type!\")\n",
    "finally:\n",
    "    print(\"id(myView): \",id(myView))"
   ]
  }
 ],
 "metadata": {
  "kernelspec": {
   "display_name": "Python 3 (ipykernel)",
   "language": "python",
   "name": "python3"
  },
  "language_info": {
   "codemirror_mode": {
    "name": "ipython",
    "version": 3
   },
   "file_extension": ".py",
   "mimetype": "text/x-python",
   "name": "python",
   "nbconvert_exporter": "python",
   "pygments_lexer": "ipython3",
   "version": "3.12.4"
  }
 },
 "nbformat": 4,
 "nbformat_minor": 4
}
