{
 "cells": [
  {
   "cell_type": "markdown",
   "metadata": {},
   "source": [
    "# <center>CHALLENGE 1<center>"
   ]
  },
  {
   "cell_type": "markdown",
   "metadata": {},
   "source": [
    "<p>Team Name:\n",
    "<p>Student Names:"
   ]
  },
  {
   "cell_type": "markdown",
   "metadata": {},
   "source": [
    "## Instructions\n",
    "Use generic coding style unless hard-coded values are really necessary.<br>\n",
    "Your code must be efficient and use self-explanatory naming.<br>\n",
    "Run your entire code and save. Then submit this <b>saved</b> copy."
   ]
  },
  {
   "cell_type": "markdown",
   "metadata": {},
   "source": [
    "## Imports"
   ]
  },
  {
   "cell_type": "code",
   "execution_count": null,
   "metadata": {},
   "outputs": [],
   "source": []
  },
  {
   "cell_type": "markdown",
   "metadata": {},
   "source": [
    "## Format"
   ]
  },
  {
   "cell_type": "code",
   "execution_count": 13,
   "metadata": {},
   "outputs": [
    {
     "name": "stdout",
     "output_type": "stream",
     "text": [
      "id(A):  140707840953600\n",
      "<class 'str'>  is a mutable data type!\n",
      "id(A):  140707840953600\n"
     ]
    }
   ],
   "source": [
    "A = ''#initialize your variable with a value of the data type. Remove this comment.\n",
    "print(\"id(A): \",id(A))\n",
    "\n",
    "try:\n",
    "    #at this line, write your code to modify the variable \"A\",\n",
    "    #do not 'assign' a new value to \"A\"!. See the example below.\n",
    "    #Remove this comment section and the example section below.\n",
    "    '''\n",
    "    Remove this example section before submitting your work\n",
    "    Example:\n",
    "\n",
    "    A = 'str1'\n",
    "    A[0] = 'b'\n",
    "    '''\n",
    "    \n",
    "    print(type(A),\" is a mutable data type!\")\n",
    "\n",
    "except:\n",
    "    print(type(A),\" is an immutable data type!\")\n",
    "finally:\n",
    "    print(\"id(A): \",id(A))    \n",
    "#\n"
   ]
  },
  {
   "cell_type": "code",
   "execution_count": 3,
   "metadata": {},
   "outputs": [
    {
     "name": "stdout",
     "output_type": "stream",
     "text": [
      "id(my_memoryview):  2414428635776\n",
      "<class 'memoryview'>  is a mutable data type!\n",
      "id(my_memoryview):  2414431881152\n"
     ]
    }
   ],
   "source": [
    "\n",
    "my_bytes = bytearray(b\"Hello, world!\")\n",
    "print(\"id(my_memoryview): \",id(my_memoryview))\n",
    "\n",
    "\n",
    "my_memoryview = memoryview(my_bytes)\n",
    "\n",
    "\n",
    "try:\n",
    "    my_memoryview[0] = 72 \n",
    "    print(type(my_memoryview),\" is a mutable data type!\")\n",
    "    \n",
    "except: \n",
    "    print(type(my_memoryview),\" is an immutable data type!\")\n",
    "finally:\n",
    "    print(\"id(my_memoryview): \",id(my_memoryview))"
   ]
  },
  {
   "cell_type": "markdown",
   "metadata": {},
   "source": [
    "# IMMUTABLE OBJECTS"
   ]
  },
  {
   "cell_type": "markdown",
   "metadata": {},
   "source": [
    "## 1 - String"
   ]
  },
  {
   "cell_type": "code",
   "execution_count": 14,
   "metadata": {},
   "outputs": [
    {
     "name": "stdout",
     "output_type": "stream",
     "text": [
      "id(A):  2429325592640\n",
      "<class 'str'>  is an immutable data type!\n",
      "id(A):  2429325592640\n"
     ]
    }
   ],
   "source": [
    "A = 'abcd'\n",
    "print(\"id(A): \",id(A))\n",
    "try:\n",
    "    A[0] = 'b'\n",
    "    print(type(A),\" is a mutable data type!\")\n",
    "except:\n",
    "    print(type(A),\" is an immutable data type!\")\n",
    "finally:\n",
    "    print(\"id(A): \",id(A))\n",
    "#"
   ]
  },
  {
   "cell_type": "markdown",
   "metadata": {},
   "source": [
    "## 2 - Tuple"
   ]
  },
  {
   "cell_type": "code",
   "execution_count": 15,
   "metadata": {},
   "outputs": [
    {
     "name": "stdout",
     "output_type": "stream",
     "text": [
      "id(mytuple):  2429326860288\n",
      "<class 'tuple'>  is an immutable data type!\n",
      "id(mytuple):  2429326860288\n"
     ]
    }
   ],
   "source": [
    "mytuple = (\"Chris\" , \"Adriean\", \"Micholas\")\n",
    "print(\"id(mytuple): \", id(mytuple))\n",
    "try:\n",
    "    mytuple[2] = \"Nicholas\"\n",
    "    print(type(mytuple), \" is a mutable data type!\")\n",
    "except:\n",
    "    print(type(mytuple), \" is an immutable data type!\")\n",
    "finally:\n",
    "    print(\"id(mytuple): \", id(mytuple))"
   ]
  },
  {
   "cell_type": "markdown",
   "metadata": {},
   "source": [
    "## 3 - Integer"
   ]
  },
  {
   "cell_type": "code",
   "execution_count": 25,
   "metadata": {},
   "outputs": [
    {
     "name": "stdout",
     "output_type": "stream",
     "text": [
      "id(myint):  140707840932408\n",
      "<class 'int'>  is an immutable data type!\n",
      "id(myint):  140707840932408\n"
     ]
    }
   ],
   "source": [
    "myint = int(5)\n",
    "print(\"id(myint): \", id(myint))\n",
    "try:\n",
    "    myint[0] = 3\n",
    "    print(type(myint), \" is a mutable data type!\")\n",
    "except:\n",
    "    print(type(myint), \" is an immutable data type!\")\n",
    "finally:\n",
    "    print(\"id(myint): \", id(myint))"
   ]
  },
  {
   "cell_type": "markdown",
   "metadata": {},
   "source": [
    "## 4 - Float"
   ]
  },
  {
   "cell_type": "code",
   "execution_count": 17,
   "metadata": {},
   "outputs": [
    {
     "name": "stdout",
     "output_type": "stream",
     "text": [
      "id(myfloat):  2429324238640\n",
      "<class 'float'>  is an immutable data type!\n",
      "id(myfloat):  2429324238640\n",
      "Value of myfloat: 3.9\n"
     ]
    }
   ],
   "source": [
    "myfloat = 3.9\n",
    "print(\"id(myfloat): \", id(myfloat))\n",
    "try:\n",
    "    myfloat[0] = 7.5\n",
    "    print(type(myfloat), \" is a mutable data type!\")\n",
    "except:\n",
    "    print(type(myfloat), \" is an immutable data type!\")\n",
    "finally:\n",
    "    print(\"id(myfloat): \", id(myfloat))\n",
    "    print(\"Value of myfloat:\", myfloat)"
   ]
  },
  {
   "cell_type": "markdown",
   "metadata": {},
   "source": [
    "## 5 - Boolean"
   ]
  },
  {
   "cell_type": "code",
   "execution_count": 18,
   "metadata": {},
   "outputs": [
    {
     "name": "stdout",
     "output_type": "stream",
     "text": [
      "id(mybool):  140707839806336\n",
      "<class 'bool'>  is an immutable data type!\n",
      "id(mybool):  140707839806336\n",
      "Value of mybool: True\n"
     ]
    }
   ],
   "source": [
    "mybool = True\n",
    "print(\"id(mybool): \", id(mybool))\n",
    "try:\n",
    "    mybool[0] = not True\n",
    "    print(type(mybool), \" is a mutable data type!\")\n",
    "except:\n",
    "    print(type(mybool), \" is an immutable data type!\")\n",
    "finally:\n",
    "    print(\"id(mybool): \", id(mybool))\n",
    "    print(\"Value of mybool:\", mybool)"
   ]
  },
  {
   "cell_type": "markdown",
   "metadata": {},
   "source": [
    "## 6 - Nonetype"
   ]
  },
  {
   "cell_type": "code",
   "execution_count": 19,
   "metadata": {},
   "outputs": [
    {
     "name": "stdout",
     "output_type": "stream",
     "text": [
      "id(myNone):  9678144\n",
      "None\n",
      "<class 'NoneType'>  is an immutable data type!\n",
      "id(myNone):  9678144\n",
      "None\n"
     ]
    }
   ],
   "source": [
    "myNone = None\n",
    "print(\"id(myNone): \",id(myNone))\n",
    "try:\n",
    "    myNone[0] = 1\n",
    "    print(type(myNone),\" is a mutable data type!\")\n",
    "except:\n",
    "    print(type(myNone),\" is an immutable data type!\")\n",
    "finally:\n",
    "    print(\"id(myNone): \",id(myNone))"
   ]
  },
  {
   "cell_type": "markdown",
   "metadata": {},
   "source": [
    "# MUTABLE OBJECTS"
   ]
  },
  {
   "cell_type": "markdown",
   "metadata": {},
   "source": [
    "## 1 - List"
   ]
  },
  {
   "cell_type": "code",
   "execution_count": 20,
   "metadata": {
    "scrolled": true
   },
   "outputs": [
    {
     "name": "stdout",
     "output_type": "stream",
     "text": [
      "id(A):  140707839887312\n",
      "<class 'NoneType'>  is a mutable data type!\n",
      "id(A):  140707839887312\n"
     ]
    }
   ],
   "source": [
    "aLst = ['a','b','c','d']\n",
    "print(\"id(A): \",id(A))\n",
    "try:\n",
    "    aLst[0] = 'A'\n",
    "    print(type(A),\" is a mutable data type!\")\n",
    "except:\n",
    "    print(type(A),\" is an immutable data type!\")\n",
    "finally:\n",
    "    print(\"id(A): \",id(A))\n",
    "#"
   ]
  },
  {
   "cell_type": "markdown",
   "metadata": {},
   "source": [
    "## 2 - Set"
   ]
  },
  {
   "cell_type": "code",
   "execution_count": 23,
   "metadata": {},
   "outputs": [
    {
     "name": "stdout",
     "output_type": "stream",
     "text": [
      "id(myset):  2429325879648\n",
      "<class 'set'>  is a mutable data type!\n",
      "id(myset):  2429325879648\n"
     ]
    }
   ],
   "source": [
    "myset = {\"a\", \"d\", \"c\"}\n",
    "print(\"id(myset): \", id(myset))\n",
    "try:\n",
    "    myset.add(\"b\") \n",
    "    print(type(myset), \" is a mutable data type!\")\n",
    "except:\n",
    "    print(type(myset), \"is an immutable data type!\")\n",
    "finally:\n",
    "    print(\"id(myset): \", id(myset))"
   ]
  },
  {
   "attachments": {},
   "cell_type": "markdown",
   "metadata": {},
   "source": [
    "## 3 - Dictionary"
   ]
  },
  {
   "cell_type": "code",
   "execution_count": 3,
   "metadata": {},
   "outputs": [
    {
     "name": "stdout",
     "output_type": "stream",
     "text": [
      "id(myDict): 140574501084160\n",
      "<class 'dict'> is a mutable data type!\n",
      "id(myDict): 140574501084160\n"
     ]
    }
   ],
   "source": [
    "myDict = { 'Person1': 1, 'Person2': 2, 'Person3': 3, 'Person4': 4, 'Person5': 5 }\n",
    "print(\"id(myDict):\", id(myDict))\n",
    "\n",
    "try:\n",
    "    myDict['Person1'] = 10\n",
    "    print(type(myDict), \"is a mutable data type!\") \n",
    "except:\n",
    "    print(type(myDict), \"is an immutable data type!\")\n",
    "finally:\n",
    "    print(\"id(myDict):\", id(myDict))\n",
    "#"
   ]
  },
  {
   "cell_type": "markdown",
   "metadata": {},
   "source": [
    "## 4 - Byte array *****************"
   ]
  },
  {
   "cell_type": "code",
   "execution_count": null,
   "metadata": {},
   "outputs": [],
   "source": [
    "myByteArray = bytearray(b'abcd')\n",
    "print(\"id(myByteArray):\", id(myByteArray))\n",
    "try:\n",
    "    myByteArray[0] = ord('b')\n",
    "    print(type(myByteArray), \"is a mutable data type!\")\n",
    "except:\n",
    "    print(type(myByteArray), \"is an immutable data type!\")\n",
    "finally:\n",
    "    print(\"id(myByteArray):\", id(myByteArray))\n",
    "#"
   ]
  },
  {
   "cell_type": "markdown",
   "metadata": {},
   "source": [
    "## 3 - Memoryview"
   ]
  },
  {
   "cell_type": "code",
   "execution_count": 1,
   "metadata": {},
   "outputs": [
    {
     "name": "stdout",
     "output_type": "stream",
     "text": [
      "id(mybyte):  2705121239088\n",
      "<class 'memoryview'>  is a mutable data type!\n",
      "id(myview):  2705118024448\n"
     ]
    }
   ],
   "source": [
    "mybyte = bytearray(b\"hello\")\n",
    "print(\"id(mybyte): \", id(mybyte))\n",
    "\n",
    "myview = memoryview(mybyte)\n",
    "try:\n",
    "    myview[0] = 10\n",
    "    print(type(myview),\" is a mutable data type!\")\n",
    "except:\n",
    "    print(type(myview),\" is an immutable data type!\")\n",
    "finally:\n",
    "    print(\"id(myview): \",id(myview))"
   ]
  }
 ],
 "metadata": {
  "kernelspec": {
   "display_name": "Python 3 (ipykernel)",
   "language": "python",
   "name": "python3"
  },
  "language_info": {
   "codemirror_mode": {
    "name": "ipython",
    "version": 3
   },
   "file_extension": ".py",
   "mimetype": "text/x-python",
   "name": "python",
   "nbconvert_exporter": "python",
   "pygments_lexer": "ipython3",
   "version": "3.12.4"
  }
 },
 "nbformat": 4,
 "nbformat_minor": 4
}
