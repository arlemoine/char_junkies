{
 "cells": [
  {
   "cell_type": "markdown",
   "metadata": {},
   "source": [
    "# <center>CHALLENGE 1<center>"
   ]
  },
  {
   "cell_type": "markdown",
   "metadata": {},
   "source": [
    "<p>Team Name:\n",
    "<p>Student Names:"
   ]
  },
  {
   "cell_type": "markdown",
   "metadata": {},
   "source": [
    "## Instructions\n",
    "Use generic coding style unless hard-coded values are really necessary.<br>\n",
    "Your code must be efficient and use self-explanatory naming.<br>\n",
    "Run your entire code and save. Then submit this <b>saved</b> copy."
   ]
  },
  {
   "cell_type": "markdown",
   "metadata": {},
   "source": [
    "## Imports"
   ]
  },
  {
   "cell_type": "code",
   "execution_count": null,
   "metadata": {},
   "outputs": [],
   "source": []
  },
  {
   "cell_type": "markdown",
   "metadata": {},
   "source": [
    "## Format"
   ]
  },
  {
   "cell_type": "code",
   "execution_count": null,
   "metadata": {},
   "outputs": [],
   "source": [
    "A = ''#initialize your variable with a value of the data type. Remove this comment.\n",
    "print(\"id(A): \",id(A))\n",
    "\n",
    "try:\n",
    "    #at this line, write your code to modify the variable \"A\",\n",
    "    #do not 'assign' a new value to \"A\"!. See the example below.\n",
    "    #Remove this comment section and the example section below.\n",
    "    '''\n",
    "    Remove this example section before submitting your work\n",
    "    Example:\n",
    "\n",
    "    A = 'str1'\n",
    "    A[0] = 'b'\n",
    "    '''\n",
    "    \n",
    "    print(type(A),\" is a mutable data type!\")\n",
    "\n",
    "except:\n",
    "    print(type(A),\" is an immutable data type!\")\n",
    "finally:\n",
    "    print(\"id(A): \",id(A))    \n",
    "#\n"
   ]
  },
  {
   "cell_type": "markdown",
   "metadata": {},
   "source": [
    "# IMMUTABLE OBJECTS"
   ]
  },
  {
   "cell_type": "markdown",
   "metadata": {},
   "source": [
    "## 1 - String"
   ]
  },
  {
   "cell_type": "code",
   "execution_count": 108,
   "metadata": {},
   "outputs": [
    {
     "name": "stdout",
     "output_type": "stream",
     "text": [
      "id(A):  2111620506720\n",
      "<class 'str'>  is an immutable data type!\n",
      "id(A):  2111620506720\n"
     ]
    }
   ],
   "source": [
    "A = 'abcd'\n",
    "print(\"id(A): \",id(A))\n",
    "try:\n",
    "    A[0] = 'b'\n",
    "    print(type(A),\" is a mutable data type!\")\n",
    "except:\n",
    "    print(type(A),\" is an immutable data type!\")\n",
    "finally:\n",
    "    print(\"id(A): \",id(A))\n",
    "#"
   ]
  },
  {
   "cell_type": "markdown",
   "metadata": {},
   "source": [
    "## 2 - Complex"
   ]
  },
  {
   "cell_type": "code",
   "execution_count": 117,
   "metadata": {},
   "outputs": [
    {
     "name": "stdout",
     "output_type": "stream",
     "text": [
      "id(A): 2111622920336\n",
      "<class 'complex'> is an immutable data type!\n",
      "id(A): 2111622920336\n"
     ]
    }
   ],
   "source": [
    "A = complex(1, 2)\n",
    "print(\"id(A):\", id(A))\n",
    "try:\n",
    "    A.real = 5\n",
    "    print(type(A), \"is a mutable data type!\")\n",
    "except:\n",
    "    print(type(A), \"is an immutable data type!\")\n",
    "finally:\n",
    "    print(\"id(A):\", id(A))\n",
    "#"
   ]
  },
  {
   "cell_type": "markdown",
   "metadata": {},
   "source": [
    "## 3 - Byte"
   ]
  },
  {
   "cell_type": "code",
   "execution_count": 114,
   "metadata": {},
   "outputs": [
    {
     "name": "stdout",
     "output_type": "stream",
     "text": [
      "id(A): 2111613468080\n",
      "<class 'bytes'> is an immutable data type!\n",
      "id(A): 2111613468080\n"
     ]
    }
   ],
   "source": [
    "A = b'abcd'\n",
    "print(\"id(A):\", id(A))\n",
    "try:\n",
    "    A[0] = ord('b')\n",
    "    print(type(A), \"is a mutable data type!\")\n",
    "except:\n",
    "    print(type(A), \"is an immutable data type!\")\n",
    "finally:\n",
    "    print(\"id(A):\", id(A))\n",
    "#"
   ]
  },
  {
   "cell_type": "markdown",
   "metadata": {},
   "source": [
    "## 4 - Range"
   ]
  },
  {
   "cell_type": "code",
   "execution_count": 106,
   "metadata": {},
   "outputs": [
    {
     "name": "stdout",
     "output_type": "stream",
     "text": [
      "id(A): 2111600743920\n",
      "<class 'range'> is an immutable data type!\n",
      "id(A): 2111600743920\n"
     ]
    }
   ],
   "source": [
    "A = range(5)\n",
    "print(\"id(A):\", id(A))\n",
    "try:\n",
    "    A[0] = 2 \n",
    "    print(type(A), \"is a mutable data type!\")\n",
    "except: \n",
    "    print(type(A), \"is an immutable data type!\")\n",
    "finally:\n",
    "    print(\"id(A):\", id(A))\n",
    "#"
   ]
  },
  {
   "cell_type": "markdown",
   "metadata": {},
   "source": [
    "## 5 - Frozenset"
   ]
  },
  {
   "cell_type": "code",
   "execution_count": 120,
   "metadata": {},
   "outputs": [
    {
     "name": "stdout",
     "output_type": "stream",
     "text": [
      "id(A): 2111624533088\n",
      "<class 'frozenset'> is an immutable data type!\n",
      "id(A): 2111624533088\n"
     ]
    }
   ],
   "source": [
    "A = frozenset([1, 2, 3, 4])\n",
    "print(\"id(A):\", id(A))\n",
    "\n",
    "try:\n",
    "    A.add(5)\n",
    "    print(type(A), \"is a mutable data type!\")\n",
    "except:\n",
    "    print(type(A), \"is an immutable data type!\")\n",
    "finally:\n",
    "    print(\"id(A):\", id(A))"
   ]
  },
  {
   "cell_type": "markdown",
   "metadata": {},
   "source": [
    "## 6 - None Type"
   ]
  },
  {
   "cell_type": "code",
   "execution_count": 127,
   "metadata": {},
   "outputs": [
    {
     "name": "stdout",
     "output_type": "stream",
     "text": [
      "id(A): 140735458068432\n",
      "<class 'str'> is a mutable data type!\n",
      "id(A): 2111641299056\n"
     ]
    }
   ],
   "source": [
    "A = None\n",
    "print(\"id(A):\", id(A))\n",
    "\n",
    "try:\n",
    "    A = 'new value'\n",
    "    print(type(A), \"is a mutable data type!\")\n",
    "except:\n",
    "    print(type(A), \"is an immutable data type!\")\n",
    "finally:\n",
    "    print(\"id(A):\", id(A))\n",
    "#"
   ]
  },
  {
   "cell_type": "markdown",
   "metadata": {},
   "source": [
    "# MUTABLE OBJECTS"
   ]
  },
  {
   "cell_type": "markdown",
   "metadata": {},
   "source": [
    "## 1 - List"
   ]
  },
  {
   "cell_type": "code",
   "execution_count": 64,
   "metadata": {
    "scrolled": true
   },
   "outputs": [
    {
     "name": "stdout",
     "output_type": "stream",
     "text": [
      "id(A):  2111600877424\n",
      "<class 'bytearray'>  is a mutable data type!\n",
      "id(A):  2111600877424\n"
     ]
    }
   ],
   "source": [
    "aLst = ['a','b','c','d']\n",
    "print(\"id(A): \",id(A))\n",
    "try:\n",
    "    aLst[0] = 'A'\n",
    "    print(type(A),\" is a mutable data type!\")\n",
    "except:\n",
    "    print(type(A),\" is an immutable data type!\")\n",
    "finally:\n",
    "    print(\"id(A): \",id(A))\n",
    "#"
   ]
  },
  {
   "cell_type": "markdown",
   "metadata": {},
   "source": [
    "## 2 - Dictionary\n"
   ]
  },
  {
   "cell_type": "code",
   "execution_count": 122,
   "metadata": {},
   "outputs": [
    {
     "name": "stdout",
     "output_type": "stream",
     "text": [
      "id(x): 2111600793600\n",
      "<class 'dict'> is a mutable data type!\n",
      "id(A): 2111600793600\n"
     ]
    }
   ],
   "source": [
    "A = { 'Person1': 1, 'Person2': 2, 'Person3': 3, 'Person4': 4, 'Person5': 5 }\n",
    "\n",
    "print(\"id(x):\", id(A))\n",
    "\n",
    "try:\n",
    "    A['Person1'] = 10\n",
    "    print(type(A), \"is a mutable data type!\") \n",
    "except:\n",
    "    print(type(A), \"is an immutable data type!\")\n",
    "finally:\n",
    "    print(\"id(A):\", id(A))\n",
    "#"
   ]
  },
  {
   "cell_type": "markdown",
   "metadata": {},
   "source": [
    "## 3 - Byte array"
   ]
  },
  {
   "cell_type": "code",
   "execution_count": 124,
   "metadata": {},
   "outputs": [
    {
     "name": "stdout",
     "output_type": "stream",
     "text": [
      "id(A): 2111641172336\n",
      "<class 'bytearray'> is a mutable data type!\n",
      "id(A): 2111641172336\n"
     ]
    }
   ],
   "source": [
    "A = bytearray(b'abcd')\n",
    "print(\"id(A):\", id(A))\n",
    "try:\n",
    "    A[0] = ord('b')\n",
    "    print(type(A), \"is a mutable data type!\")\n",
    "except:\n",
    "    print(type(A), \"is an immutable data type!\")\n",
    "finally:\n",
    "    print(\"id(A):\", id(A))\n",
    "#"
   ]
  },
  {
   "cell_type": "code",
   "execution_count": null,
   "metadata": {},
   "outputs": [],
   "source": []
  }
 ],
 "metadata": {
  "kernelspec": {
   "display_name": "Python 3 (ipykernel)",
   "language": "python",
   "name": "python3"
  },
  "language_info": {
   "codemirror_mode": {
    "name": "ipython",
    "version": 3
   },
   "file_extension": ".py",
   "mimetype": "text/x-python",
   "name": "python",
   "nbconvert_exporter": "python",
   "pygments_lexer": "ipython3",
   "version": "3.12.4"
  }
 },
 "nbformat": 4,
 "nbformat_minor": 4
}
